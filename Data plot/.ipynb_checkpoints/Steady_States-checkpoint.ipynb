{
 "cells": [
  {
   "cell_type": "code",
   "execution_count": 1,
   "metadata": {
    "collapsed": true
   },
   "outputs": [],
   "source": [
    "import pandas as pd\n",
    "import codecs\n",
    "import sys\n",
    "import numpy as np\n",
    "import matplotlib.pyplot as plt\n",
    "import datetime\n",
    "#F=codecs.open('xxx.csv','r','utf-8')\n",
    "#f= codecs.open('部分数据/附件1/YD1.xlsx','r', 'utf8')"
   ]
  },
  {
   "cell_type": "code",
   "execution_count": 2,
   "metadata": {
    "collapsed": false
   },
   "outputs": [
    {
     "data": {
      "text/plain": [
       "(9, 5)"
      ]
     },
     "execution_count": 2,
     "metadata": {},
     "output_type": "execute_result"
    }
   ],
   "source": [
    "path = u\"C:/Users/Administrator/git/NILM/A题\"\n",
    "yd1 = pd.ExcelFile(path+ u\"部分数据/附件1/YD1.xlsx\")\n",
    "yd2 = pd.ExcelFile(path+ u\"部分数据/附件1/YD2.xlsx\")\n",
    "yd3 = pd.ExcelFile(path+ u\"部分数据/附件1/YD3.xlsx\")\n",
    "yd4 = pd.ExcelFile(path+ u\"部分数据/附件1/YD4.xlsx\")\n",
    "yd5 = pd.ExcelFile(path+ u\"部分数据/附件1/YD5.xlsx\")\n",
    "yd6 = pd.ExcelFile(path+ u\"部分数据/附件1/YD6.xlsx\")\n",
    "yd7 = pd.ExcelFile(path+ u\"部分数据/附件1/YD7.xlsx\")\n",
    "yd8 = pd.ExcelFile(path+ u\"部分数据/附件1/YD8.xlsx\")\n",
    "yd9 = pd.ExcelFile(path+ u\"部分数据/附件1/YD9.xlsx\")\n",
    "yd10 = pd.ExcelFile(path+ u\"部分数据/附件1/YD10.xlsx\")\n",
    "yd11 = pd.ExcelFile(path+ u\"部分数据/附件1/YD11.xlsx\")\n",
    "yd3yd7 = pd.ExcelFile(path+ u\"部分数据/附件3/设备组1-YD3+YD7.xlsx\")\n",
    "yd1yd2yd4 = pd.ExcelFile(path+ u\"部分数据/附件3/设备组2-YD1+YD2+YD4.xlsx\")\n",
    "yd4yd5yd10yd11=pd.ExcelFile(path+ u\"部分数据/附件3/设备组3-YD4+YD5+YD8+YD10+YD11.xlsx\")\n",
    "yd=[yd1,yd2,yd3,yd4,yd5,yd6,yd7,yd8,yd9,yd10, yd11, yd3yd7, yd1yd2yd4, yd4yd5yd10yd11]\n",
    "\n",
    "equip_data = []\n",
    "period_data = []\n",
    "harmonic_data = []\n",
    "oper_data = []\n",
    "for i in range(0,14):\n",
    "    equip_data.append(yd[i].parse(u'设备数据'));\n",
    "    period_data.append(yd[i].parse(u'周波数据'));\n",
    "    harmonic_data.append(yd[i].parse(u'谐波数据'));\n",
    "for i in range(0,11):\n",
    "    oper_data.append(yd[i].parse(u'操作记录'));\n",
    "oper_data[1].shape"
   ]
  },
  {
   "cell_type": "markdown",
   "metadata": {},
   "source": [
    "### Define two functions to deal with missing operation time in equip_data"
   ]
  },
  {
   "cell_type": "code",
   "execution_count": 3,
   "metadata": {
    "collapsed": true
   },
   "outputs": [],
   "source": [
    "def find_next(datetimes, datetime_point):\n",
    "    '''\n",
    "    datetimes : An array of numpy.datetime.\n",
    "    datetime_point: An datetime that need to be found.\n",
    "    return : the first available datetime and its index in datetimes array that is bigger than datetime_point.\n",
    "             If the datetime_point is bigger than all the values in datetimes, return None\n",
    "    '''\n",
    "    for i in range(len(datetimes)):\n",
    "        if datetimes[i]<datetime_point:\n",
    "            found = False\n",
    "            continue\n",
    "        if datetimes[i]>datetime_point:\n",
    "            return i, datetimes[i]\n",
    "    if found == False:\n",
    "        return None\n",
    "def find_prior(datetimes, datetime_point)  :\n",
    "    '''\n",
    "    datetimes : An array of numpy.datetime.\n",
    "    datetime_point: An datetime that need to be found.\n",
    "    return : the last available datetime and its index in datetimes array that is no bigger than datetime_point.\n",
    "             If the datetime_point is smaller than all the values in datetimes, return None\n",
    "    '''\n",
    "    if datetimes[0]>datetime_point:\n",
    "        return None\n",
    "    \n",
    "    for i in range(len(datetimes)):\n",
    "        if datetimes[i]<datetime_point:\n",
    "            continue\n",
    "        if datetimes[i]>datetime_point:\n",
    "            return i-1, datetimes[i-1]\n",
    "    return i, datetimes[i]"
   ]
  },
  {
   "cell_type": "markdown",
   "metadata": {},
   "source": [
    "### Define a function to get the  p,q value of steady states"
   ]
  },
  {
   "cell_type": "code",
   "execution_count": 4,
   "metadata": {
    "collapsed": true
   },
   "outputs": [],
   "source": [
    "def get_steady(i):\n",
    "    '''\n",
    "    input i: the equipment number. For example, for yd1, i=1\n",
    "    return : the steady state name and the corresponding p , q value\n",
    "    '''\n",
    "    i=i-1\n",
    "    data_p=[]\n",
    "    data_q=[]\n",
    "    label=[]\n",
    "    p = equip_data[i]['P'].values\n",
    "    q = equip_data[i]['Q'].values\n",
    "    for ii in range(oper_data[i].shape[0]-1):\n",
    "        index_1 = np.where(equip_data[i]['time'].values == oper_data[i][u'时间'].values[ii])[0]\n",
    "        index_2 = np.where(equip_data[i]['time'].values == oper_data[i][u'时间'].values[ii+1])[0]\n",
    "        if len(index_2)==0:\n",
    "            index_2 = find_next(equip_data[i]['time'].values, oper_data[i][u'时间'].values[ii+1])\n",
    "            if index_2 == None: # if index_2 is bigger than all the availabel datetimes, then return the find_prior\n",
    "                index_2 = find_prior(equip_data[i]['time'].values, oper_data[i][u'时间'].values[ii+1])[0]+2\n",
    "            else:\n",
    "                index_2 = index_2[0] + 2\n",
    "        if len(index_1)==0:\n",
    "            index_1 = find_next(equip_data[i]['time'].values, oper_data[i][u'时间'].values[ii])\n",
    "            if index_1 == None: # if index_1 is bigger than all the available datetimes, then there is no need to search\n",
    "                break\n",
    "            else:\n",
    "                index_1 = index_1[0] - 2\n",
    "        index_1 = int(index_1)\n",
    "        index_2 = int(index_2)\n",
    "        label.append('yd{}'.format(i+1) + ':' + oper_data[i][u'工作状态'].values[ii])\n",
    "        data_p.append(np.mean(p[index_1+2:index_2-2]))\n",
    "        data_q.append(np.mean(q[index_1+2:index_2-2]))\n",
    "    return label, data_p, data_q"
   ]
  },
  {
   "cell_type": "markdown",
   "metadata": {},
   "source": [
    "### Create a dataframe to store the steady state data. For microwave, laptop, and printer, because their steady state is hard to define, we did not include them."
   ]
  },
  {
   "cell_type": "code",
   "execution_count": 5,
   "metadata": {
    "collapsed": true
   },
   "outputs": [],
   "source": [
    "steady_label = []\n",
    "steady_p = []\n",
    "steady_q = []\n",
    "for i in [1,3,5,6,8,9,10,11]:\n",
    "    label, data_p, data_q = get_steady(i)\n",
    "    steady_label = steady_label + label\n",
    "    steady_p = steady_p + data_p\n",
    "    steady_q = steady_q + data_q\n",
    "steady_dict = {\n",
    "    'Steady State': steady_label,\n",
    "    'P value' : steady_p,\n",
    "    'Q value' : steady_q\n",
    "    }\n",
    "steady_df = pd.DataFrame(steady_dict)"
   ]
  },
  {
   "cell_type": "code",
   "execution_count": 6,
   "metadata": {
    "collapsed": false,
    "scrolled": true
   },
   "outputs": [
    {
     "data": {
      "text/html": [
       "<div>\n",
       "<table border=\"1\" class=\"dataframe\">\n",
       "  <thead>\n",
       "    <tr style=\"text-align: right;\">\n",
       "      <th></th>\n",
       "      <th>P value</th>\n",
       "      <th>Q value</th>\n",
       "      <th>Steady State</th>\n",
       "    </tr>\n",
       "  </thead>\n",
       "  <tbody>\n",
       "    <tr>\n",
       "      <th>0</th>\n",
       "      <td>2.944444</td>\n",
       "      <td>0.018519</td>\n",
       "      <td>yd1:关闭</td>\n",
       "    </tr>\n",
       "    <tr>\n",
       "      <th>1</th>\n",
       "      <td>285.275862</td>\n",
       "      <td>146.965517</td>\n",
       "      <td>yd1:1档</td>\n",
       "    </tr>\n",
       "    <tr>\n",
       "      <th>2</th>\n",
       "      <td>334.500000</td>\n",
       "      <td>132.250000</td>\n",
       "      <td>yd1:2档</td>\n",
       "    </tr>\n",
       "    <tr>\n",
       "      <th>3</th>\n",
       "      <td>381.125000</td>\n",
       "      <td>80.928571</td>\n",
       "      <td>yd1:3档</td>\n",
       "    </tr>\n",
       "    <tr>\n",
       "      <th>4</th>\n",
       "      <td>2.979592</td>\n",
       "      <td>0.040816</td>\n",
       "      <td>yd3:关闭</td>\n",
       "    </tr>\n",
       "    <tr>\n",
       "      <th>5</th>\n",
       "      <td>17043.676056</td>\n",
       "      <td>20.183099</td>\n",
       "      <td>yd3:打开</td>\n",
       "    </tr>\n",
       "    <tr>\n",
       "      <th>6</th>\n",
       "      <td>2.843137</td>\n",
       "      <td>0.039216</td>\n",
       "      <td>yd5:关闭</td>\n",
       "    </tr>\n",
       "    <tr>\n",
       "      <th>7</th>\n",
       "      <td>407.344262</td>\n",
       "      <td>6.180328</td>\n",
       "      <td>yd5:打开</td>\n",
       "    </tr>\n",
       "    <tr>\n",
       "      <th>8</th>\n",
       "      <td>2.816327</td>\n",
       "      <td>0.000000</td>\n",
       "      <td>yd6:关闭</td>\n",
       "    </tr>\n",
       "    <tr>\n",
       "      <th>9</th>\n",
       "      <td>53.100000</td>\n",
       "      <td>11.100000</td>\n",
       "      <td>yd6:打开</td>\n",
       "    </tr>\n",
       "    <tr>\n",
       "      <th>10</th>\n",
       "      <td>2.870370</td>\n",
       "      <td>0.166667</td>\n",
       "      <td>yd8:关闭</td>\n",
       "    </tr>\n",
       "    <tr>\n",
       "      <th>11</th>\n",
       "      <td>3982.863248</td>\n",
       "      <td>5.572650</td>\n",
       "      <td>yd8:加热</td>\n",
       "    </tr>\n",
       "    <tr>\n",
       "      <th>12</th>\n",
       "      <td>446.187050</td>\n",
       "      <td>79.345324</td>\n",
       "      <td>yd8:制冷</td>\n",
       "    </tr>\n",
       "    <tr>\n",
       "      <th>13</th>\n",
       "      <td>4386.917051</td>\n",
       "      <td>74.119816</td>\n",
       "      <td>yd8:加热、制冷</td>\n",
       "    </tr>\n",
       "    <tr>\n",
       "      <th>14</th>\n",
       "      <td>4017.333333</td>\n",
       "      <td>5.777778</td>\n",
       "      <td>yd8:加热</td>\n",
       "    </tr>\n",
       "    <tr>\n",
       "      <th>15</th>\n",
       "      <td>463.800000</td>\n",
       "      <td>0.828571</td>\n",
       "      <td>yd8:保温</td>\n",
       "    </tr>\n",
       "    <tr>\n",
       "      <th>16</th>\n",
       "      <td>4007.366667</td>\n",
       "      <td>5.633333</td>\n",
       "      <td>yd8:加热</td>\n",
       "    </tr>\n",
       "    <tr>\n",
       "      <th>17</th>\n",
       "      <td>23.630435</td>\n",
       "      <td>13.565217</td>\n",
       "      <td>yd9:关闭</td>\n",
       "    </tr>\n",
       "    <tr>\n",
       "      <th>18</th>\n",
       "      <td>209.675325</td>\n",
       "      <td>201.818182</td>\n",
       "      <td>yd9:制冷</td>\n",
       "    </tr>\n",
       "    <tr>\n",
       "      <th>19</th>\n",
       "      <td>151.066667</td>\n",
       "      <td>199.800000</td>\n",
       "      <td>yd9:除湿</td>\n",
       "    </tr>\n",
       "    <tr>\n",
       "      <th>20</th>\n",
       "      <td>149.907407</td>\n",
       "      <td>202.962963</td>\n",
       "      <td>yd9:辅热</td>\n",
       "    </tr>\n",
       "    <tr>\n",
       "      <th>21</th>\n",
       "      <td>9.551020</td>\n",
       "      <td>65.673469</td>\n",
       "      <td>yd10:关闭</td>\n",
       "    </tr>\n",
       "    <tr>\n",
       "      <th>22</th>\n",
       "      <td>2515.476923</td>\n",
       "      <td>2400.800000</td>\n",
       "      <td>yd10:1档热风</td>\n",
       "    </tr>\n",
       "    <tr>\n",
       "      <th>23</th>\n",
       "      <td>1582.854839</td>\n",
       "      <td>300.629032</td>\n",
       "      <td>yd10:1档冷风</td>\n",
       "    </tr>\n",
       "    <tr>\n",
       "      <th>24</th>\n",
       "      <td>12.589286</td>\n",
       "      <td>66.339286</td>\n",
       "      <td>yd10:关闭</td>\n",
       "    </tr>\n",
       "    <tr>\n",
       "      <th>25</th>\n",
       "      <td>12632.490385</td>\n",
       "      <td>110.298077</td>\n",
       "      <td>yd10:2档热风</td>\n",
       "    </tr>\n",
       "    <tr>\n",
       "      <th>26</th>\n",
       "      <td>3416.893939</td>\n",
       "      <td>74.575758</td>\n",
       "      <td>yd10:2档冷风</td>\n",
       "    </tr>\n",
       "    <tr>\n",
       "      <th>27</th>\n",
       "      <td>7.142857</td>\n",
       "      <td>114.795918</td>\n",
       "      <td>yd11:关闭</td>\n",
       "    </tr>\n",
       "    <tr>\n",
       "      <th>28</th>\n",
       "      <td>1033.533333</td>\n",
       "      <td>342.766667</td>\n",
       "      <td>yd11:打开</td>\n",
       "    </tr>\n",
       "  </tbody>\n",
       "</table>\n",
       "</div>"
      ],
      "text/plain": [
       "         P value      Q value Steady State\n",
       "0       2.944444     0.018519       yd1:关闭\n",
       "1     285.275862   146.965517       yd1:1档\n",
       "2     334.500000   132.250000       yd1:2档\n",
       "3     381.125000    80.928571       yd1:3档\n",
       "4       2.979592     0.040816       yd3:关闭\n",
       "5   17043.676056    20.183099       yd3:打开\n",
       "6       2.843137     0.039216       yd5:关闭\n",
       "7     407.344262     6.180328       yd5:打开\n",
       "8       2.816327     0.000000       yd6:关闭\n",
       "9      53.100000    11.100000       yd6:打开\n",
       "10      2.870370     0.166667       yd8:关闭\n",
       "11   3982.863248     5.572650       yd8:加热\n",
       "12    446.187050    79.345324       yd8:制冷\n",
       "13   4386.917051    74.119816    yd8:加热、制冷\n",
       "14   4017.333333     5.777778       yd8:加热\n",
       "15    463.800000     0.828571       yd8:保温\n",
       "16   4007.366667     5.633333       yd8:加热\n",
       "17     23.630435    13.565217       yd9:关闭\n",
       "18    209.675325   201.818182       yd9:制冷\n",
       "19    151.066667   199.800000       yd9:除湿\n",
       "20    149.907407   202.962963       yd9:辅热\n",
       "21      9.551020    65.673469      yd10:关闭\n",
       "22   2515.476923  2400.800000    yd10:1档热风\n",
       "23   1582.854839   300.629032    yd10:1档冷风\n",
       "24     12.589286    66.339286      yd10:关闭\n",
       "25  12632.490385   110.298077    yd10:2档热风\n",
       "26   3416.893939    74.575758    yd10:2档冷风\n",
       "27      7.142857   114.795918      yd11:关闭\n",
       "28   1033.533333   342.766667      yd11:打开"
      ]
     },
     "execution_count": 6,
     "metadata": {},
     "output_type": "execute_result"
    }
   ],
   "source": [
    "steady_df"
   ]
  },
  {
   "cell_type": "markdown",
   "metadata": {},
   "source": [
    "### Based on the P,Q values of steady states, we can calculate the difference between the steady states."
   ]
  },
  {
   "cell_type": "code",
   "execution_count": 42,
   "metadata": {
    "collapsed": false
   },
   "outputs": [],
   "source": [
    "from itertools import combinations\n",
    "trans_label= []\n",
    "trans_p = []\n",
    "trans_q = []\n",
    "for i in [1,3,5,6,8,9,10,11]:\n",
    "#for i in [1]:\n",
    "    label, data_p, data_q = get_steady(i)\n",
    "    for pair in list(combinations(range(len(label)),2)):\n",
    "        trans_label.append(label[pair[0]]+' to '+label[pair[1]])\n",
    "        trans_p.append(data_p[pair[1]]-data_p[pair[0]])\n",
    "        trans_q.append(data_q[pair[1]]-data_q[pair[0]])\n",
    "        trans_label.append(label[pair[1]]+' to '+label[pair[0]])\n",
    "        trans_p.append(data_p[pair[0]]-data_p[pair[1]])\n",
    "        trans_q.append(data_q[pair[0]]-data_q[pair[1]])\n",
    "        "
   ]
  },
  {
   "cell_type": "code",
   "execution_count": 43,
   "metadata": {
    "collapsed": false
   },
   "outputs": [],
   "source": [
    "trans_dict = {\n",
    "    'Transitions': trans_label,\n",
    "    'P value change' : trans_p,\n",
    "    'Q value change' : trans_q\n",
    "    }\n",
    "trans_df = pd.DataFrame(trans_dict)"
   ]
  },
  {
   "cell_type": "code",
   "execution_count": 44,
   "metadata": {
    "collapsed": false,
    "scrolled": true
   },
   "outputs": [
    {
     "data": {
      "text/html": [
       "<div>\n",
       "<table border=\"1\" class=\"dataframe\">\n",
       "  <thead>\n",
       "    <tr style=\"text-align: right;\">\n",
       "      <th></th>\n",
       "      <th>P value change</th>\n",
       "      <th>Q value change</th>\n",
       "      <th>Transitions</th>\n",
       "    </tr>\n",
       "  </thead>\n",
       "  <tbody>\n",
       "    <tr>\n",
       "      <th>0</th>\n",
       "      <td>282.331418</td>\n",
       "      <td>146.946999</td>\n",
       "      <td>yd1:关闭 to yd1:1档</td>\n",
       "    </tr>\n",
       "    <tr>\n",
       "      <th>1</th>\n",
       "      <td>-282.331418</td>\n",
       "      <td>-146.946999</td>\n",
       "      <td>yd1:1档 to yd1:关闭</td>\n",
       "    </tr>\n",
       "    <tr>\n",
       "      <th>2</th>\n",
       "      <td>331.555556</td>\n",
       "      <td>132.231481</td>\n",
       "      <td>yd1:关闭 to yd1:2档</td>\n",
       "    </tr>\n",
       "    <tr>\n",
       "      <th>3</th>\n",
       "      <td>-331.555556</td>\n",
       "      <td>-132.231481</td>\n",
       "      <td>yd1:2档 to yd1:关闭</td>\n",
       "    </tr>\n",
       "    <tr>\n",
       "      <th>4</th>\n",
       "      <td>378.180556</td>\n",
       "      <td>80.910053</td>\n",
       "      <td>yd1:关闭 to yd1:3档</td>\n",
       "    </tr>\n",
       "    <tr>\n",
       "      <th>5</th>\n",
       "      <td>-378.180556</td>\n",
       "      <td>-80.910053</td>\n",
       "      <td>yd1:3档 to yd1:关闭</td>\n",
       "    </tr>\n",
       "    <tr>\n",
       "      <th>6</th>\n",
       "      <td>49.224138</td>\n",
       "      <td>-14.715517</td>\n",
       "      <td>yd1:1档 to yd1:2档</td>\n",
       "    </tr>\n",
       "    <tr>\n",
       "      <th>7</th>\n",
       "      <td>-49.224138</td>\n",
       "      <td>14.715517</td>\n",
       "      <td>yd1:2档 to yd1:1档</td>\n",
       "    </tr>\n",
       "    <tr>\n",
       "      <th>8</th>\n",
       "      <td>95.849138</td>\n",
       "      <td>-66.036946</td>\n",
       "      <td>yd1:1档 to yd1:3档</td>\n",
       "    </tr>\n",
       "    <tr>\n",
       "      <th>9</th>\n",
       "      <td>-95.849138</td>\n",
       "      <td>66.036946</td>\n",
       "      <td>yd1:3档 to yd1:1档</td>\n",
       "    </tr>\n",
       "    <tr>\n",
       "      <th>10</th>\n",
       "      <td>46.625000</td>\n",
       "      <td>-51.321429</td>\n",
       "      <td>yd1:2档 to yd1:3档</td>\n",
       "    </tr>\n",
       "    <tr>\n",
       "      <th>11</th>\n",
       "      <td>-46.625000</td>\n",
       "      <td>51.321429</td>\n",
       "      <td>yd1:3档 to yd1:2档</td>\n",
       "    </tr>\n",
       "    <tr>\n",
       "      <th>12</th>\n",
       "      <td>17040.696465</td>\n",
       "      <td>20.142282</td>\n",
       "      <td>yd3:关闭 to yd3:打开</td>\n",
       "    </tr>\n",
       "    <tr>\n",
       "      <th>13</th>\n",
       "      <td>-17040.696465</td>\n",
       "      <td>-20.142282</td>\n",
       "      <td>yd3:打开 to yd3:关闭</td>\n",
       "    </tr>\n",
       "    <tr>\n",
       "      <th>14</th>\n",
       "      <td>404.501125</td>\n",
       "      <td>6.141112</td>\n",
       "      <td>yd5:关闭 to yd5:打开</td>\n",
       "    </tr>\n",
       "    <tr>\n",
       "      <th>15</th>\n",
       "      <td>-404.501125</td>\n",
       "      <td>-6.141112</td>\n",
       "      <td>yd5:打开 to yd5:关闭</td>\n",
       "    </tr>\n",
       "    <tr>\n",
       "      <th>16</th>\n",
       "      <td>50.283673</td>\n",
       "      <td>11.100000</td>\n",
       "      <td>yd6:关闭 to yd6:打开</td>\n",
       "    </tr>\n",
       "    <tr>\n",
       "      <th>17</th>\n",
       "      <td>-50.283673</td>\n",
       "      <td>-11.100000</td>\n",
       "      <td>yd6:打开 to yd6:关闭</td>\n",
       "    </tr>\n",
       "    <tr>\n",
       "      <th>18</th>\n",
       "      <td>3979.992877</td>\n",
       "      <td>5.405983</td>\n",
       "      <td>yd8:关闭 to yd8:加热</td>\n",
       "    </tr>\n",
       "    <tr>\n",
       "      <th>19</th>\n",
       "      <td>-3979.992877</td>\n",
       "      <td>-5.405983</td>\n",
       "      <td>yd8:加热 to yd8:关闭</td>\n",
       "    </tr>\n",
       "    <tr>\n",
       "      <th>20</th>\n",
       "      <td>443.316680</td>\n",
       "      <td>79.178657</td>\n",
       "      <td>yd8:关闭 to yd8:制冷</td>\n",
       "    </tr>\n",
       "    <tr>\n",
       "      <th>21</th>\n",
       "      <td>-443.316680</td>\n",
       "      <td>-79.178657</td>\n",
       "      <td>yd8:制冷 to yd8:关闭</td>\n",
       "    </tr>\n",
       "    <tr>\n",
       "      <th>22</th>\n",
       "      <td>4384.046680</td>\n",
       "      <td>73.953149</td>\n",
       "      <td>yd8:关闭 to yd8:加热、制冷</td>\n",
       "    </tr>\n",
       "    <tr>\n",
       "      <th>23</th>\n",
       "      <td>-4384.046680</td>\n",
       "      <td>-73.953149</td>\n",
       "      <td>yd8:加热、制冷 to yd8:关闭</td>\n",
       "    </tr>\n",
       "    <tr>\n",
       "      <th>24</th>\n",
       "      <td>4014.462963</td>\n",
       "      <td>5.611111</td>\n",
       "      <td>yd8:关闭 to yd8:加热</td>\n",
       "    </tr>\n",
       "    <tr>\n",
       "      <th>25</th>\n",
       "      <td>-4014.462963</td>\n",
       "      <td>-5.611111</td>\n",
       "      <td>yd8:加热 to yd8:关闭</td>\n",
       "    </tr>\n",
       "    <tr>\n",
       "      <th>26</th>\n",
       "      <td>460.929630</td>\n",
       "      <td>0.661905</td>\n",
       "      <td>yd8:关闭 to yd8:保温</td>\n",
       "    </tr>\n",
       "    <tr>\n",
       "      <th>27</th>\n",
       "      <td>-460.929630</td>\n",
       "      <td>-0.661905</td>\n",
       "      <td>yd8:保温 to yd8:关闭</td>\n",
       "    </tr>\n",
       "    <tr>\n",
       "      <th>28</th>\n",
       "      <td>4004.496296</td>\n",
       "      <td>5.466667</td>\n",
       "      <td>yd8:关闭 to yd8:加热</td>\n",
       "    </tr>\n",
       "    <tr>\n",
       "      <th>29</th>\n",
       "      <td>-4004.496296</td>\n",
       "      <td>-5.466667</td>\n",
       "      <td>yd8:加热 to yd8:关闭</td>\n",
       "    </tr>\n",
       "    <tr>\n",
       "      <th>...</th>\n",
       "      <td>...</td>\n",
       "      <td>...</td>\n",
       "      <td>...</td>\n",
       "    </tr>\n",
       "    <tr>\n",
       "      <th>74</th>\n",
       "      <td>1573.303818</td>\n",
       "      <td>234.955563</td>\n",
       "      <td>yd10:关闭 to yd10:1档冷风</td>\n",
       "    </tr>\n",
       "    <tr>\n",
       "      <th>75</th>\n",
       "      <td>-1573.303818</td>\n",
       "      <td>-234.955563</td>\n",
       "      <td>yd10:1档冷风 to yd10:关闭</td>\n",
       "    </tr>\n",
       "    <tr>\n",
       "      <th>76</th>\n",
       "      <td>3.038265</td>\n",
       "      <td>0.665816</td>\n",
       "      <td>yd10:关闭 to yd10:关闭</td>\n",
       "    </tr>\n",
       "    <tr>\n",
       "      <th>77</th>\n",
       "      <td>-3.038265</td>\n",
       "      <td>-0.665816</td>\n",
       "      <td>yd10:关闭 to yd10:关闭</td>\n",
       "    </tr>\n",
       "    <tr>\n",
       "      <th>78</th>\n",
       "      <td>12622.939364</td>\n",
       "      <td>44.624608</td>\n",
       "      <td>yd10:关闭 to yd10:2档热风</td>\n",
       "    </tr>\n",
       "    <tr>\n",
       "      <th>79</th>\n",
       "      <td>-12622.939364</td>\n",
       "      <td>-44.624608</td>\n",
       "      <td>yd10:2档热风 to yd10:关闭</td>\n",
       "    </tr>\n",
       "    <tr>\n",
       "      <th>80</th>\n",
       "      <td>3407.342919</td>\n",
       "      <td>8.902288</td>\n",
       "      <td>yd10:关闭 to yd10:2档冷风</td>\n",
       "    </tr>\n",
       "    <tr>\n",
       "      <th>81</th>\n",
       "      <td>-3407.342919</td>\n",
       "      <td>-8.902288</td>\n",
       "      <td>yd10:2档冷风 to yd10:关闭</td>\n",
       "    </tr>\n",
       "    <tr>\n",
       "      <th>82</th>\n",
       "      <td>-932.622084</td>\n",
       "      <td>-2100.170968</td>\n",
       "      <td>yd10:1档热风 to yd10:1档冷风</td>\n",
       "    </tr>\n",
       "    <tr>\n",
       "      <th>83</th>\n",
       "      <td>932.622084</td>\n",
       "      <td>2100.170968</td>\n",
       "      <td>yd10:1档冷风 to yd10:1档热风</td>\n",
       "    </tr>\n",
       "    <tr>\n",
       "      <th>84</th>\n",
       "      <td>-2502.887637</td>\n",
       "      <td>-2334.460714</td>\n",
       "      <td>yd10:1档热风 to yd10:关闭</td>\n",
       "    </tr>\n",
       "    <tr>\n",
       "      <th>85</th>\n",
       "      <td>2502.887637</td>\n",
       "      <td>2334.460714</td>\n",
       "      <td>yd10:关闭 to yd10:1档热风</td>\n",
       "    </tr>\n",
       "    <tr>\n",
       "      <th>86</th>\n",
       "      <td>10117.013462</td>\n",
       "      <td>-2290.501923</td>\n",
       "      <td>yd10:1档热风 to yd10:2档热风</td>\n",
       "    </tr>\n",
       "    <tr>\n",
       "      <th>87</th>\n",
       "      <td>-10117.013462</td>\n",
       "      <td>2290.501923</td>\n",
       "      <td>yd10:2档热风 to yd10:1档热风</td>\n",
       "    </tr>\n",
       "    <tr>\n",
       "      <th>88</th>\n",
       "      <td>901.417016</td>\n",
       "      <td>-2326.224242</td>\n",
       "      <td>yd10:1档热风 to yd10:2档冷风</td>\n",
       "    </tr>\n",
       "    <tr>\n",
       "      <th>89</th>\n",
       "      <td>-901.417016</td>\n",
       "      <td>2326.224242</td>\n",
       "      <td>yd10:2档冷风 to yd10:1档热风</td>\n",
       "    </tr>\n",
       "    <tr>\n",
       "      <th>90</th>\n",
       "      <td>-1570.265553</td>\n",
       "      <td>-234.289747</td>\n",
       "      <td>yd10:1档冷风 to yd10:关闭</td>\n",
       "    </tr>\n",
       "    <tr>\n",
       "      <th>91</th>\n",
       "      <td>1570.265553</td>\n",
       "      <td>234.289747</td>\n",
       "      <td>yd10:关闭 to yd10:1档冷风</td>\n",
       "    </tr>\n",
       "    <tr>\n",
       "      <th>92</th>\n",
       "      <td>11049.635546</td>\n",
       "      <td>-190.330955</td>\n",
       "      <td>yd10:1档冷风 to yd10:2档热风</td>\n",
       "    </tr>\n",
       "    <tr>\n",
       "      <th>93</th>\n",
       "      <td>-11049.635546</td>\n",
       "      <td>190.330955</td>\n",
       "      <td>yd10:2档热风 to yd10:1档冷风</td>\n",
       "    </tr>\n",
       "    <tr>\n",
       "      <th>94</th>\n",
       "      <td>1834.039101</td>\n",
       "      <td>-226.053275</td>\n",
       "      <td>yd10:1档冷风 to yd10:2档冷风</td>\n",
       "    </tr>\n",
       "    <tr>\n",
       "      <th>95</th>\n",
       "      <td>-1834.039101</td>\n",
       "      <td>226.053275</td>\n",
       "      <td>yd10:2档冷风 to yd10:1档冷风</td>\n",
       "    </tr>\n",
       "    <tr>\n",
       "      <th>96</th>\n",
       "      <td>12619.901099</td>\n",
       "      <td>43.958791</td>\n",
       "      <td>yd10:关闭 to yd10:2档热风</td>\n",
       "    </tr>\n",
       "    <tr>\n",
       "      <th>97</th>\n",
       "      <td>-12619.901099</td>\n",
       "      <td>-43.958791</td>\n",
       "      <td>yd10:2档热风 to yd10:关闭</td>\n",
       "    </tr>\n",
       "    <tr>\n",
       "      <th>98</th>\n",
       "      <td>3404.304654</td>\n",
       "      <td>8.236472</td>\n",
       "      <td>yd10:关闭 to yd10:2档冷风</td>\n",
       "    </tr>\n",
       "    <tr>\n",
       "      <th>99</th>\n",
       "      <td>-3404.304654</td>\n",
       "      <td>-8.236472</td>\n",
       "      <td>yd10:2档冷风 to yd10:关闭</td>\n",
       "    </tr>\n",
       "    <tr>\n",
       "      <th>100</th>\n",
       "      <td>-9215.596445</td>\n",
       "      <td>-35.722319</td>\n",
       "      <td>yd10:2档热风 to yd10:2档冷风</td>\n",
       "    </tr>\n",
       "    <tr>\n",
       "      <th>101</th>\n",
       "      <td>9215.596445</td>\n",
       "      <td>35.722319</td>\n",
       "      <td>yd10:2档冷风 to yd10:2档热风</td>\n",
       "    </tr>\n",
       "    <tr>\n",
       "      <th>102</th>\n",
       "      <td>1026.390476</td>\n",
       "      <td>227.970748</td>\n",
       "      <td>yd11:关闭 to yd11:打开</td>\n",
       "    </tr>\n",
       "    <tr>\n",
       "      <th>103</th>\n",
       "      <td>-1026.390476</td>\n",
       "      <td>-227.970748</td>\n",
       "      <td>yd11:打开 to yd11:关闭</td>\n",
       "    </tr>\n",
       "  </tbody>\n",
       "</table>\n",
       "<p>104 rows × 3 columns</p>\n",
       "</div>"
      ],
      "text/plain": [
       "     P value change  Q value change             Transitions\n",
       "0        282.331418      146.946999        yd1:关闭 to yd1:1档\n",
       "1       -282.331418     -146.946999        yd1:1档 to yd1:关闭\n",
       "2        331.555556      132.231481        yd1:关闭 to yd1:2档\n",
       "3       -331.555556     -132.231481        yd1:2档 to yd1:关闭\n",
       "4        378.180556       80.910053        yd1:关闭 to yd1:3档\n",
       "5       -378.180556      -80.910053        yd1:3档 to yd1:关闭\n",
       "6         49.224138      -14.715517        yd1:1档 to yd1:2档\n",
       "7        -49.224138       14.715517        yd1:2档 to yd1:1档\n",
       "8         95.849138      -66.036946        yd1:1档 to yd1:3档\n",
       "9        -95.849138       66.036946        yd1:3档 to yd1:1档\n",
       "10        46.625000      -51.321429        yd1:2档 to yd1:3档\n",
       "11       -46.625000       51.321429        yd1:3档 to yd1:2档\n",
       "12     17040.696465       20.142282        yd3:关闭 to yd3:打开\n",
       "13    -17040.696465      -20.142282        yd3:打开 to yd3:关闭\n",
       "14       404.501125        6.141112        yd5:关闭 to yd5:打开\n",
       "15      -404.501125       -6.141112        yd5:打开 to yd5:关闭\n",
       "16        50.283673       11.100000        yd6:关闭 to yd6:打开\n",
       "17       -50.283673      -11.100000        yd6:打开 to yd6:关闭\n",
       "18      3979.992877        5.405983        yd8:关闭 to yd8:加热\n",
       "19     -3979.992877       -5.405983        yd8:加热 to yd8:关闭\n",
       "20       443.316680       79.178657        yd8:关闭 to yd8:制冷\n",
       "21      -443.316680      -79.178657        yd8:制冷 to yd8:关闭\n",
       "22      4384.046680       73.953149     yd8:关闭 to yd8:加热、制冷\n",
       "23     -4384.046680      -73.953149     yd8:加热、制冷 to yd8:关闭\n",
       "24      4014.462963        5.611111        yd8:关闭 to yd8:加热\n",
       "25     -4014.462963       -5.611111        yd8:加热 to yd8:关闭\n",
       "26       460.929630        0.661905        yd8:关闭 to yd8:保温\n",
       "27      -460.929630       -0.661905        yd8:保温 to yd8:关闭\n",
       "28      4004.496296        5.466667        yd8:关闭 to yd8:加热\n",
       "29     -4004.496296       -5.466667        yd8:加热 to yd8:关闭\n",
       "..              ...             ...                     ...\n",
       "74      1573.303818      234.955563    yd10:关闭 to yd10:1档冷风\n",
       "75     -1573.303818     -234.955563    yd10:1档冷风 to yd10:关闭\n",
       "76         3.038265        0.665816      yd10:关闭 to yd10:关闭\n",
       "77        -3.038265       -0.665816      yd10:关闭 to yd10:关闭\n",
       "78     12622.939364       44.624608    yd10:关闭 to yd10:2档热风\n",
       "79    -12622.939364      -44.624608    yd10:2档热风 to yd10:关闭\n",
       "80      3407.342919        8.902288    yd10:关闭 to yd10:2档冷风\n",
       "81     -3407.342919       -8.902288    yd10:2档冷风 to yd10:关闭\n",
       "82      -932.622084    -2100.170968  yd10:1档热风 to yd10:1档冷风\n",
       "83       932.622084     2100.170968  yd10:1档冷风 to yd10:1档热风\n",
       "84     -2502.887637    -2334.460714    yd10:1档热风 to yd10:关闭\n",
       "85      2502.887637     2334.460714    yd10:关闭 to yd10:1档热风\n",
       "86     10117.013462    -2290.501923  yd10:1档热风 to yd10:2档热风\n",
       "87    -10117.013462     2290.501923  yd10:2档热风 to yd10:1档热风\n",
       "88       901.417016    -2326.224242  yd10:1档热风 to yd10:2档冷风\n",
       "89      -901.417016     2326.224242  yd10:2档冷风 to yd10:1档热风\n",
       "90     -1570.265553     -234.289747    yd10:1档冷风 to yd10:关闭\n",
       "91      1570.265553      234.289747    yd10:关闭 to yd10:1档冷风\n",
       "92     11049.635546     -190.330955  yd10:1档冷风 to yd10:2档热风\n",
       "93    -11049.635546      190.330955  yd10:2档热风 to yd10:1档冷风\n",
       "94      1834.039101     -226.053275  yd10:1档冷风 to yd10:2档冷风\n",
       "95     -1834.039101      226.053275  yd10:2档冷风 to yd10:1档冷风\n",
       "96     12619.901099       43.958791    yd10:关闭 to yd10:2档热风\n",
       "97    -12619.901099      -43.958791    yd10:2档热风 to yd10:关闭\n",
       "98      3404.304654        8.236472    yd10:关闭 to yd10:2档冷风\n",
       "99     -3404.304654       -8.236472    yd10:2档冷风 to yd10:关闭\n",
       "100    -9215.596445      -35.722319  yd10:2档热风 to yd10:2档冷风\n",
       "101     9215.596445       35.722319  yd10:2档冷风 to yd10:2档热风\n",
       "102     1026.390476      227.970748      yd11:关闭 to yd11:打开\n",
       "103    -1026.390476     -227.970748      yd11:打开 to yd11:关闭\n",
       "\n",
       "[104 rows x 3 columns]"
      ]
     },
     "execution_count": 44,
     "metadata": {},
     "output_type": "execute_result"
    }
   ],
   "source": [
    "trans_df"
   ]
  },
  {
   "cell_type": "code",
   "execution_count": null,
   "metadata": {
    "collapsed": true
   },
   "outputs": [],
   "source": []
  },
  {
   "cell_type": "code",
   "execution_count": 7,
   "metadata": {
    "collapsed": false
   },
   "outputs": [],
   "source": [
    "sys.path.append('C:\\Users\\Administrator\\git\\NILM\\pulse_method')\n",
    "from useful_feature_module import sweep_get_std, sweep_get_diff, sweep_get_mean, compute_useful_feature\n",
    "from waveform_characterizing_module import characterize_pulse"
   ]
  },
  {
   "cell_type": "code",
   "execution_count": 8,
   "metadata": {
    "collapsed": true
   },
   "outputs": [],
   "source": [
    "processed_data = compute_useful_feature(equip_data[0], diff = 2, input_feature = ['P' ,'Q'])"
   ]
  },
  {
   "cell_type": "code",
   "execution_count": 9,
   "metadata": {
    "collapsed": false
   },
   "outputs": [],
   "source": [
    "processed_data['time_sec']=range(processed_data.shape[0])"
   ]
  },
  {
   "cell_type": "code",
   "execution_count": 10,
   "metadata": {
    "collapsed": false
   },
   "outputs": [],
   "source": [
    "[pulse_area,pulse_trig_t,pulse_heith_t,pulse_end_t,pulse_h] = characterize_pulse(processed_data, 'P_2pDiff', posi_thresh=20, nega_thresh=-20)"
   ]
  },
  {
   "cell_type": "code",
   "execution_count": 11,
   "metadata": {
    "collapsed": false
   },
   "outputs": [
    {
     "data": {
      "text/plain": [
       "array([ 58, 121, 126, 185], dtype=int64)"
      ]
     },
     "execution_count": 11,
     "metadata": {},
     "output_type": "execute_result"
    }
   ],
   "source": [
    "pulse_heith_t"
   ]
  },
  {
   "cell_type": "code",
   "execution_count": 12,
   "metadata": {
    "collapsed": false
   },
   "outputs": [
    {
     "data": {
      "text/plain": [
       "array([ 56,  57,  58,  59,  60, 119, 120, 121, 122, 123, 124, 125, 126,\n",
       "       127, 128, 183, 184, 185, 186, 187], dtype=int64)"
      ]
     },
     "execution_count": 12,
     "metadata": {},
     "output_type": "execute_result"
    }
   ],
   "source": [
    "index = np.array([[i-2,i-1,i,i+1,i+2] for i in pulse_heith_t]).flatten()\n",
    "index"
   ]
  },
  {
   "cell_type": "code",
   "execution_count": 13,
   "metadata": {
    "collapsed": false
   },
   "outputs": [
    {
     "data": {
      "image/png": "[encoded data removed]",
      "text/plain": [
       "<matplotlib.figure.Figure at 0x10ad3128>"
      ]
     },
     "metadata": {},
     "output_type": "display_data"
    }
   ],
   "source": [
    "%matplotlib inline\n",
    "mask = np.ones(len(equip_data[0]['P'].values), dtype=bool)\n",
    "mask[index] = False\n",
    "result = equip_data[0]['P'].values[mask]\n",
    "plt.plot(result)\n",
    "plt.show()"
   ]
  },
  {
   "cell_type": "code",
   "execution_count": 94,
   "metadata": {
    "collapsed": true
   },
   "outputs": [],
   "source": [
    "def peak_remover(arr, threshold):\n",
    "    '''\n",
    "    arr : a numpy array that need to remove peaks\n",
    "    threshold : the threshold to determine what peaks to remove\n",
    "    '''\n",
    "    # The following code was adapted from DQ's module\n",
    "    wf = np.array([0] + list(np.diff(arr)))\n",
    "    time_s = np.array(range(len(wf)))\n",
    "    \n",
    "    pulse_wf = [] # pulse waveform, this is not part of output\n",
    "    pulse_area = [] # pulse area\n",
    "    pulse_trig_t = [] # time of first point that is triggered\n",
    "    pulse_heith_t = [] # height point time\n",
    "    pulse_end_t = [] # time of last point that is triggered\n",
    "    pulse_h = [] # pulse height\n",
    "    \n",
    "    posi_thresh = threshold \n",
    "    nega_thresh = -threshold\n",
    "    cut_p = (wf > posi_thresh)\n",
    "    cut_p_diff = np.diff(cut_p*1) # convert boolean to number \n",
    "    pp_start_idx = np.where(cut_p_diff == 1)[0] + 1 # first index cutted out by diff - python index (starts with 0)\n",
    "    pp_end_idx = np.where(cut_p_diff == -1)[0] # we don't need +1 here somehow - python index (starts with 0)\n",
    "\n",
    "    for i in range(0, min([len(pp_start_idx),len(pp_end_idx)])):\n",
    "        temp_pulse_wf = wf[np.array(range(pp_start_idx[i],pp_end_idx[i]+1))]\n",
    "        temp_pulse_time_s = time_s[np.array(range(pp_start_idx[i],pp_end_idx[i]+1))]\n",
    "        pulse_wf.append(temp_pulse_wf)\n",
    "        pulse_area.append(temp_pulse_wf.sum())\n",
    "        pulse_h.append(temp_pulse_wf.max())\n",
    "        pulse_trig_t.append(temp_pulse_time_s[0])\n",
    "        cut_pulse_heigh_t = np.where(temp_pulse_wf == temp_pulse_wf.max())\n",
    "        pulse_heith_t.append(temp_pulse_time_s[cut_pulse_heigh_t[0][0]])\n",
    "        pulse_end_t.append(temp_pulse_time_s[-1])\n",
    "        \n",
    "    cut_n = (wf < nega_thresh)\n",
    "    cut_n_diff = np.diff(cut_n*1)\n",
    "    np_start_idx = np.where(cut_n_diff == 1)[0] + 1\n",
    "    np_end_idx = np.where(cut_n_diff == -1)[0]\n",
    "    \n",
    "    for i in range(0, min([len(np_start_idx),len(np_end_idx)])):\n",
    "        temp_pulse_wf = wf[np.array(range(np_start_idx[i],np_end_idx[i]+1))]\n",
    "        temp_pulse_time_s = time_s[np.array(range(np_start_idx[i],np_end_idx[i]+1))]\n",
    "        pulse_wf.append(temp_pulse_wf)\n",
    "        pulse_area.append(temp_pulse_wf.sum())\n",
    "        pulse_h.append(temp_pulse_wf.min())\n",
    "        pulse_trig_t.append(temp_pulse_time_s[0])\n",
    "        cut_pulse_heigh_t = np.where(temp_pulse_wf == temp_pulse_wf.min())\n",
    "        pulse_heith_t.append(temp_pulse_time_s[cut_pulse_heigh_t[0][0]])\n",
    "        pulse_end_t.append(temp_pulse_time_s[-1])\n",
    "        \n",
    "    pulse_area = np.array(pulse_area)\n",
    "    pulse_trig_t = np.array(pulse_trig_t)\n",
    "    pulse_heith_t = np.array(pulse_heith_t)\n",
    "    pulse_end_t = np.array(pulse_end_t)\n",
    "    pulse_h = np.array(pulse_h)\n",
    "    \n",
    "    index = np.argsort(pulse_trig_t)\n",
    "    pulse_area = pulse_area[index]\n",
    "    pulse_trig_t = pulse_trig_t[index]\n",
    "    pulse_heith_t = pulse_heith_t[index]\n",
    "    pulse_end_t = pulse_end_t[index]\n",
    "    pulse_h = pulse_h[index]\n",
    "    \n",
    "    index_raw = [[i-3,i-2,i-1,i,i+1,i+2,i+3] for i in pulse_heith_t]\n",
    "    index = np.array([[i-2,i-1,i,i+1,i+2] for i in pulse_heith_t]).flatten()\n",
    "    mask = np.ones(len(arr), dtype=bool)\n",
    "    mask[index] = False\n",
    "    result = arr[mask]\n",
    "    \n",
    "    return pulse_area,pulse_trig_t,pulse_heith_t,pulse_end_t,pulse_h, result, mask, index_raw\n",
    "    #return [pulse_area,pulse_trig_t,pulse_heith_t,pulse_end_t,pulse_h]"
   ]
  },
  {
   "cell_type": "code",
   "execution_count": 130,
   "metadata": {
    "collapsed": false
   },
   "outputs": [],
   "source": [
    "def find_ends(mask):\n",
    "    '''\n",
    "    mask: a boolean array.\n",
    "    return the indices of the two ends of a section of False values\n",
    "    '''\n",
    "    arr = np.diff(mask)\n",
    "    index = np.where(np.abs(arr)>0.1)[0]\n",
    "    pair = []\n",
    "    for ii in range(len(index)/2):\n",
    "        pair.append([index[ii*2], index[ii*2+1]+1])\n",
    "    return pair\n",
    "\n",
    "def get_pq_trans(i):\n",
    "    p_trans=[]\n",
    "    q_trans=[]\n",
    "    pq_pair = []\n",
    "    p_data = equip_data[i]['P'].values\n",
    "    q_data = equip_data[i]['Q'].values\n",
    "    pulse_area,pulse_trig_t,pulse_heith_t,pulse_end_t,pulse_h, result_p, mask, index_raw = peak_remover(p_data, threshold=20)\n",
    "    pair = find_ends(mask)\n",
    "    for indices in pair:\n",
    "        p_trans.append(p_data[indices[1]]-p_data[indices[0]])\n",
    "        q_trans.append(q_data[indices[1]]-q_data[indices[0]])\n",
    "    # if p_trans and q_trans have zero value at the same location, remove it\n",
    "    for ii in range(len(p_trans)):\n",
    "        if abs(p_trans[ii])>1 or abs(q_trans[ii])>1:\n",
    "            pq_pair.append([p_trans[ii], q_trans[ii]])\n",
    "\n",
    "    return pq_pair"
   ]
  },
  {
   "cell_type": "code",
   "execution_count": 101,
   "metadata": {
    "collapsed": false
   },
   "outputs": [],
   "source": [
    "wf = np.array([0] + list(np.diff((equip_data[9]['P'].values))))\n",
    "time_s = np.array(range(len(wf)))"
   ]
  },
  {
   "cell_type": "code",
   "execution_count": 104,
   "metadata": {
    "collapsed": false
   },
   "outputs": [
    {
     "data": {
      "text/plain": [
       "[<matplotlib.lines.Line2D at 0x14e11b38>]"
      ]
     },
     "execution_count": 104,
     "metadata": {},
     "output_type": "execute_result"
    },
    {
     "data": {
      "image/png": "[encoded data removed]",
      "text/plain": [
       "<matplotlib.figure.Figure at 0x14b33ba8>"
      ]
     },
     "metadata": {},
     "output_type": "display_data"
    }
   ],
   "source": [
    "%matplotlib inline\n",
    "plt.plot(wf)"
   ]
  },
  {
   "cell_type": "code",
   "execution_count": 117,
   "metadata": {
    "collapsed": false
   },
   "outputs": [],
   "source": [
    "pair =find_ends(mask)"
   ]
  },
  {
   "cell_type": "code",
   "execution_count": 118,
   "metadata": {
    "collapsed": false
   },
   "outputs": [
    {
     "data": {
      "text/plain": [
       "[[51, 60],\n",
       " [188, 194],\n",
       " [251, 258],\n",
       " [315, 322],\n",
       " [421, 427],\n",
       " [430, 437],\n",
       " [491, 498]]"
      ]
     },
     "execution_count": 118,
     "metadata": {},
     "output_type": "execute_result"
    }
   ],
   "source": [
    "pair"
   ]
  },
  {
   "cell_type": "code",
   "execution_count": 131,
   "metadata": {
    "collapsed": false
   },
   "outputs": [],
   "source": [
    "pq_pair = get_pq_trans(9)"
   ]
  },
  {
   "cell_type": "code",
   "execution_count": 133,
   "metadata": {
    "collapsed": false,
    "scrolled": true
   },
   "outputs": [
    {
     "data": {
      "text/plain": [
       "[[2536, 2373],\n",
       " [-976, -2177],\n",
       " [-1552, -187],\n",
       " [12967, 25],\n",
       " [-9817, -13],\n",
       " [-3139, -10]]"
      ]
     },
     "execution_count": 133,
     "metadata": {},
     "output_type": "execute_result"
    }
   ],
   "source": [
    "pq_pair"
   ]
  },
  {
   "cell_type": "code",
   "execution_count": 127,
   "metadata": {
    "collapsed": false
   },
   "outputs": [
    {
     "data": {
      "text/plain": [
       "[2373, -2177, -187, 25, -13, 0, -10]"
      ]
     },
     "execution_count": 127,
     "metadata": {},
     "output_type": "execute_result"
    }
   ],
   "source": [
    "q_trans"
   ]
  },
  {
   "cell_type": "code",
   "execution_count": 106,
   "metadata": {
    "collapsed": true
   },
   "outputs": [],
   "source": [
    "pulse_area,pulse_trig_t,pulse_heith_t,pulse_end_t,pulse_h, result_p, mask, index_raw = peak_remover(equip_data[9]['P'].values, threshold=20)"
   ]
  },
  {
   "cell_type": "code",
   "execution_count": 99,
   "metadata": {
    "collapsed": false
   },
   "outputs": [
    {
     "data": {
      "text/plain": [
       "array([ 54,  55,  56,  57, 191, 254, 255, 318, 319, 424, 433, 434, 494, 495])"
      ]
     },
     "execution_count": 99,
     "metadata": {},
     "output_type": "execute_result"
    }
   ],
   "source": [
    "pulse_heith_t"
   ]
  },
  {
   "cell_type": "code",
   "execution_count": 73,
   "metadata": {
    "collapsed": true
   },
   "outputs": [],
   "source": [
    "result_q = equip_data[9]['Q'].values[mask]"
   ]
  },
  {
   "cell_type": "code",
   "execution_count": 81,
   "metadata": {
    "collapsed": false
   },
   "outputs": [
    {
     "data": {
      "text/plain": [
       "array([ 2373,   -31,    27, -2177,  -187,    25], dtype=int64)"
      ]
     },
     "execution_count": 81,
     "metadata": {},
     "output_type": "execute_result"
    }
   ],
   "source": [
    "_, _, _, pulse_area,_=peak_remover(result_q, threshold=15)\n",
    "pulse_area"
   ]
  },
  {
   "cell_type": "code",
   "execution_count": 85,
   "metadata": {
    "collapsed": false
   },
   "outputs": [
    {
     "data": {
      "text/plain": [
       "array([ 2536,  -976, -1552, 12967, -9817, -3139], dtype=int64)"
      ]
     },
     "execution_count": 85,
     "metadata": {},
     "output_type": "execute_result"
    }
   ],
   "source": [
    "pulse_heith_t, index, _, pulse_area,_=peak_remover(result, threshold=100)\n",
    "pulse_area"
   ]
  },
  {
   "cell_type": "code",
   "execution_count": 86,
   "metadata": {
    "collapsed": false
   },
   "outputs": [
    {
     "data": {
      "text/plain": [
       "array([ 52, 181, 239, 297, 397, 456])"
      ]
     },
     "execution_count": 86,
     "metadata": {},
     "output_type": "execute_result"
    }
   ],
   "source": [
    "pulse_heith_t"
   ]
  },
  {
   "cell_type": "code",
   "execution_count": 108,
   "metadata": {
    "collapsed": false
   },
   "outputs": [
    {
     "data": {
      "image/png": "[encoded data removed]",
      "text/plain": [
       "<matplotlib.figure.Figure at 0x14e4c6d8>"
      ]
     },
     "metadata": {},
     "output_type": "display_data"
    }
   ],
   "source": [
    "plt.plot(result_p)\n",
    "plt.show()"
   ]
  },
  {
   "cell_type": "code",
   "execution_count": 134,
   "metadata": {
    "collapsed": false
   },
   "outputs": [
    {
     "data": {
      "text/plain": [
       "KNeighborsClassifier(algorithm='auto', leaf_size=30, metric='minkowski',\n",
       "           metric_params=None, n_jobs=1, n_neighbors=1, p=2,\n",
       "           weights='uniform')"
      ]
     },
     "execution_count": 134,
     "metadata": {},
     "output_type": "execute_result"
    }
   ],
   "source": [
    "from sklearn.neighbors import KNeighborsClassifier\n",
    "knn = KNeighborsClassifier(n_neighbors=1)\n",
    "train = trans_df.iloc[:,0:2].values\n",
    "label = trans_df.iloc[:,2].values\n",
    "knn.fit(train,label)"
   ]
  },
  {
   "cell_type": "code",
   "execution_count": 135,
   "metadata": {
    "collapsed": false
   },
   "outputs": [],
   "source": [
    "predic = knn.predict(np.array(pq_pair))"
   ]
  },
  {
   "cell_type": "code",
   "execution_count": 136,
   "metadata": {
    "collapsed": false
   },
   "outputs": [
    {
     "name": "stdout",
     "output_type": "stream",
     "text": [
      "yd10:关闭 to yd10:1档热风\n",
      "yd10:1档热风 to yd10:1档冷风\n",
      "yd10:1档冷风 to yd10:关闭\n",
      "yd10:关闭 to yd10:2档热风\n",
      "yd10:2档热风 to yd10:2档冷风\n",
      "yd10:2档冷风 to yd10:关闭\n"
     ]
    }
   ],
   "source": [
    "for ii in predic:\n",
    "    print ii"
   ]
  },
  {
   "cell_type": "code",
   "execution_count": 154,
   "metadata": {
    "collapsed": true
   },
   "outputs": [
    {
     "name": "stdout",
     "output_type": "stream",
     "text": [
      "yd8:关闭 to yd8:保温\n",
      "yd8:关闭 to yd8:加热\n",
      "yd11:关闭 to yd11:打开\n",
      "yd10:关闭 to yd10:1档冷风\n",
      "yd9:除湿 to yd9:辅热\n",
      "yd8:加热 to yd8:加热\n",
      "yd8:加热 to yd8:加热\n",
      "yd8:加热 to yd8:加热\n",
      "yd9:除湿 to yd9:辅热\n",
      "yd8:加热 to yd8:加热\n",
      "yd8:加热 to yd8:加热\n",
      "yd8:加热 to yd8:加热\n",
      "yd8:加热 to yd8:加热\n",
      "yd9:除湿 to yd9:辅热\n",
      "yd8:加热 to yd8:加热\n",
      "yd10:关闭 to yd10:关闭\n",
      "yd8:加热 to yd8:加热\n",
      "yd10:1档冷风 to yd10:1档热风\n",
      "yd8:加热 to yd8:加热\n",
      "yd8:加热 to yd8:加热\n",
      "yd10:关闭 to yd10:关闭\n",
      "yd1:1档 to yd1:2档\n",
      "yd6:打开 to yd6:关闭\n",
      "yd10:关闭 to yd10:关闭\n",
      "yd9:除湿 to yd9:辅热\n",
      "yd6:打开 to yd6:关闭\n",
      "yd10:关闭 to yd10:关闭\n",
      "yd8:加热 to yd8:加热\n",
      "yd8:加热、制冷 to yd8:加热\n",
      "yd8:加热 to yd8:加热\n",
      "yd6:关闭 to yd6:打开\n",
      "yd10:1档热风 to yd10:关闭\n",
      "yd5:打开 to yd5:关闭\n",
      "yd11:打开 to yd11:关闭\n",
      "yd10:关闭 to yd10:2档冷风\n",
      "yd11:关闭 to yd11:打开\n",
      "yd5:关闭 to yd5:打开\n",
      "yd1:1档 to yd1:3档\n",
      "yd8:加热 to yd8:加热\n",
      "yd9:辅热 to yd9:制冷\n",
      "yd8:加热、制冷 to yd8:关闭\n",
      "yd10:2档冷风 to yd10:2档热风\n",
      "yd10:关闭 to yd10:关闭\n",
      "yd8:加热 to yd8:加热\n",
      "yd8:制冷 to yd8:加热、制冷\n",
      "yd10:关闭 to yd10:关闭\n",
      "yd1:1档 to yd1:3档\n",
      "yd10:关闭 to yd10:关闭\n",
      "yd1:1档 to yd1:3档\n",
      "yd1:3档 to yd1:1档\n",
      "yd8:加热 to yd8:加热\n",
      "yd8:加热 to yd8:加热\n",
      "yd9:制冷 to yd9:除湿\n",
      "yd8:加热 to yd8:加热\n",
      "yd8:加热 to yd8:加热\n",
      "yd9:除湿 to yd9:制冷\n",
      "yd9:除湿 to yd9:制冷\n",
      "yd8:加热 to yd8:加热\n",
      "yd9:辅热 to yd9:除湿\n",
      "yd10:2档热风 to yd10:关闭\n",
      "yd8:加热、制冷 to yd8:关闭\n"
     ]
    }
   ],
   "source": [
    "pq_pair = get_pq_trans(13)\n",
    "predic = knn.predict(np.array(pq_pair))\n",
    "for ii in predic:\n",
    "    print ii"
   ]
  },
  {
   "cell_type": "code",
   "execution_count": 143,
   "metadata": {
    "collapsed": false
   },
   "outputs": [
    {
     "data": {
      "text/plain": [
       "[[161, 210], [-42, -3], [-106, -191]]"
      ]
     },
     "execution_count": 143,
     "metadata": {},
     "output_type": "execute_result"
    }
   ],
   "source": [
    "pq_pair"
   ]
  },
  {
   "cell_type": "code",
   "execution_count": null,
   "metadata": {
    "collapsed": true
   },
   "outputs": [],
   "source": []
  },
  {
   "cell_type": "code",
   "execution_count": null,
   "metadata": {
    "collapsed": true
   },
   "outputs": [],
   "source": []
  },
  {
   "cell_type": "code",
   "execution_count": null,
   "metadata": {
    "collapsed": true
   },
   "outputs": [],
   "source": []
  },
  {
   "cell_type": "code",
   "execution_count": null,
   "metadata": {
    "collapsed": true
   },
   "outputs": [],
   "source": []
  }
 ],
 "metadata": {
  "kernelspec": {
   "display_name": "Python 2",
   "language": "python",
   "name": "python2"
  },
  "language_info": {
   "codemirror_mode": {
    "name": "ipython",
    "version": 2
   },
   "file_extension": ".py",
   "mimetype": "text/x-python",
   "name": "python",
   "nbconvert_exporter": "python",
   "pygments_lexer": "ipython2",
   "version": "2.7.11"
  }
 },
 "nbformat": 4,
 "nbformat_minor": 0
}
