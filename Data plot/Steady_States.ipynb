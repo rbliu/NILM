{
 "cells": [
  {
   "cell_type": "code",
   "execution_count": 2,
   "metadata": {
    "collapsed": true
   },
   "outputs": [],
   "source": [
    "import pandas as pd\n",
    "import codecs\n",
    "import sys\n",
    "import numpy as np\n",
    "import matplotlib.pyplot as plt\n",
    "import datetime\n",
    "#F=codecs.open('xxx.csv','r','utf-8')\n",
    "#f= codecs.open('部分数据/附件1/YD1.xlsx','r', 'utf8')"
   ]
  },
  {
   "cell_type": "code",
   "execution_count": 133,
   "metadata": {
    "collapsed": false
   },
   "outputs": [
    {
     "data": {
      "text/plain": [
       "(9, 5)"
      ]
     },
     "execution_count": 133,
     "metadata": {},
     "output_type": "execute_result"
    }
   ],
   "source": [
    "path = u\"C:/Users/Administrator/git/NILM/A题\"\n",
    "yd1 = pd.ExcelFile(path+ u\"部分数据/附件1/YD1.xlsx\")\n",
    "yd2 = pd.ExcelFile(path+ u\"部分数据/附件1/YD2.xlsx\")\n",
    "yd3 = pd.ExcelFile(path+ u\"部分数据/附件1/YD3.xlsx\")\n",
    "yd4 = pd.ExcelFile(path+ u\"部分数据/附件1/YD4.xlsx\")\n",
    "yd5 = pd.ExcelFile(path+ u\"部分数据/附件1/YD5.xlsx\")\n",
    "yd6 = pd.ExcelFile(path+ u\"部分数据/附件1/YD6.xlsx\")\n",
    "yd7 = pd.ExcelFile(path+ u\"部分数据/附件1/YD7.xlsx\")\n",
    "yd8 = pd.ExcelFile(path+ u\"部分数据/附件1/YD8.xlsx\")\n",
    "yd9 = pd.ExcelFile(path+ u\"部分数据/附件1/YD9.xlsx\")\n",
    "yd10 = pd.ExcelFile(path+ u\"部分数据/附件1/YD10.xlsx\")\n",
    "yd11 = pd.ExcelFile(path+ u\"部分数据/附件1/YD11.xlsx\")\n",
    "yd3yd7 = pd.ExcelFile(path+ u\"部分数据/附件3/设备组1-YD3+YD7.xlsx\")\n",
    "yd1yd2yd4 = pd.ExcelFile(path+ u\"部分数据/附件3/设备组2-YD1+YD2+YD4.xlsx\")\n",
    "yd4yd5yd10yd11=pd.ExcelFile(path+ u\"部分数据/附件3/设备组3-YD4+YD5+YD8+YD10+YD11.xlsx\")\n",
    "yd=[yd1,yd2,yd3,yd4,yd5,yd6,yd7,yd8,yd9,yd10, yd11, yd3yd7, yd1yd2yd4, yd4yd5yd10yd11]\n",
    "\n",
    "equip_data = []\n",
    "period_data = []\n",
    "harmonic_data = []\n",
    "oper_data = []\n",
    "for i in range(0,14):\n",
    "    equip_data.append(yd[i].parse(u'设备数据'));\n",
    "    period_data.append(yd[i].parse(u'周波数据'));\n",
    "    harmonic_data.append(yd[i].parse(u'谐波数据'));\n",
    "for i in range(0,11):\n",
    "    oper_data.append(yd[i].parse(u'操作记录'));\n",
    "oper_data[1].shape"
   ]
  },
  {
   "cell_type": "markdown",
   "metadata": {},
   "source": [
    "### Define two functions to deal with missing operation time in equip_data"
   ]
  },
  {
   "cell_type": "code",
   "execution_count": 4,
   "metadata": {
    "collapsed": true
   },
   "outputs": [],
   "source": [
    "def find_next(datetimes, datetime_point):\n",
    "    '''\n",
    "    datetimes : An array of numpy.datetime.\n",
    "    datetime_point: An datetime that need to be found.\n",
    "    return : the first available datetime and its index in datetimes array that is bigger than datetime_point.\n",
    "             If the datetime_point is bigger than all the values in datetimes, return None\n",
    "    '''\n",
    "    for i in range(len(datetimes)):\n",
    "        if datetimes[i]<datetime_point:\n",
    "            found = False\n",
    "            continue\n",
    "        if datetimes[i]>datetime_point:\n",
    "            return i, datetimes[i]\n",
    "    if found == False:\n",
    "        return None\n",
    "def find_prior(datetimes, datetime_point)  :\n",
    "    '''\n",
    "    datetimes : An array of numpy.datetime.\n",
    "    datetime_point: An datetime that need to be found.\n",
    "    return : the last available datetime and its index in datetimes array that is no bigger than datetime_point.\n",
    "             If the datetime_point is smaller than all the values in datetimes, return None\n",
    "    '''\n",
    "    if datetimes[0]>datetime_point:\n",
    "        return None\n",
    "    \n",
    "    for i in range(len(datetimes)):\n",
    "        if datetimes[i]<datetime_point:\n",
    "            continue\n",
    "        if datetimes[i]>datetime_point:\n",
    "            return i-1, datetimes[i-1]\n",
    "    return i, datetimes[i]"
   ]
  },
  {
   "cell_type": "markdown",
   "metadata": {},
   "source": [
    "### Define a function to get the  p,q value of steady states"
   ]
  },
  {
   "cell_type": "code",
   "execution_count": 5,
   "metadata": {
    "collapsed": true
   },
   "outputs": [],
   "source": [
    "def get_steady(i):\n",
    "    '''\n",
    "    input i: the equipment number. For example, for yd1, i=1\n",
    "    return : the steady state name and the corresponding p , q value\n",
    "    '''\n",
    "    i=i-1\n",
    "    data_p=[]\n",
    "    data_q=[]\n",
    "    label=[]\n",
    "    p = equip_data[i]['P'].values\n",
    "    q = equip_data[i]['Q'].values\n",
    "    for ii in range(oper_data[i].shape[0]-1):\n",
    "        index_1 = np.where(equip_data[i]['time'].values == oper_data[i][u'时间'].values[ii])[0]\n",
    "        index_2 = np.where(equip_data[i]['time'].values == oper_data[i][u'时间'].values[ii+1])[0]\n",
    "        if len(index_2)==0:\n",
    "            index_2 = find_next(equip_data[i]['time'].values, oper_data[i][u'时间'].values[ii+1])\n",
    "            if index_2 == None: # if index_2 is bigger than all the availabel datetimes, then return the find_prior\n",
    "                index_2 = find_prior(equip_data[i]['time'].values, oper_data[i][u'时间'].values[ii+1])[0]+2\n",
    "            else:\n",
    "                index_2 = index_2[0] + 2\n",
    "        if len(index_1)==0:\n",
    "            index_1 = find_next(equip_data[i]['time'].values, oper_data[i][u'时间'].values[ii])\n",
    "            if index_1 == None: # if index_1 is bigger than all the available datetimes, then there is no need to search\n",
    "                break\n",
    "            else:\n",
    "                index_1 = index_1[0] - 2\n",
    "        index_1 = int(index_1)\n",
    "        index_2 = int(index_2)\n",
    "        label.append('yd{}'.format(i+1) + ':' + oper_data[i][u'工作状态'].values[ii])\n",
    "        data_p.append(np.mean(p[index_1+2:index_2-2]))\n",
    "        data_q.append(np.mean(q[index_1+2:index_2-2]))\n",
    "    return label, data_p, data_q"
   ]
  },
  {
   "cell_type": "markdown",
   "metadata": {},
   "source": [
    "### Create a dataframe to store the steady state data. For microwave, laptop, and printer, because their steady state is hard to define, we did not include them."
   ]
  },
  {
   "cell_type": "code",
   "execution_count": 39,
   "metadata": {
    "collapsed": false
   },
   "outputs": [],
   "source": [
    "steady_label = []\n",
    "steady_p = []\n",
    "steady_q = []\n",
    "equip_number = []\n",
    "for i in [1,3,5,6,8,9,10,11]:\n",
    "    label, data_p, data_q = get_steady(i)\n",
    "    steady_label = steady_label + label\n",
    "    steady_p = steady_p + data_p\n",
    "    steady_q = steady_q + data_q\n",
    "    equip_number = equip_number + list(np.repeat(i,len(label)))\n",
    "steady_dict = {\n",
    "    'Steady State': steady_label,\n",
    "    'Equipment number': equip_number,\n",
    "    'P value' : steady_p,\n",
    "    'Q value' : steady_q\n",
    "    }\n",
    "steady_df_raw = pd.DataFrame(steady_dict)"
   ]
  },
  {
   "cell_type": "code",
   "execution_count": 40,
   "metadata": {
    "collapsed": false,
    "scrolled": true
   },
   "outputs": [
    {
     "data": {
      "text/html": [
       "<div>\n",
       "<table border=\"1\" class=\"dataframe\">\n",
       "  <thead>\n",
       "    <tr style=\"text-align: right;\">\n",
       "      <th></th>\n",
       "      <th>Equipment number</th>\n",
       "      <th>P value</th>\n",
       "      <th>Q value</th>\n",
       "      <th>Steady State</th>\n",
       "    </tr>\n",
       "  </thead>\n",
       "  <tbody>\n",
       "    <tr>\n",
       "      <th>0</th>\n",
       "      <td>1</td>\n",
       "      <td>2.944444</td>\n",
       "      <td>0.018519</td>\n",
       "      <td>yd1:关闭</td>\n",
       "    </tr>\n",
       "    <tr>\n",
       "      <th>1</th>\n",
       "      <td>1</td>\n",
       "      <td>285.275862</td>\n",
       "      <td>146.965517</td>\n",
       "      <td>yd1:1档</td>\n",
       "    </tr>\n",
       "    <tr>\n",
       "      <th>2</th>\n",
       "      <td>1</td>\n",
       "      <td>334.500000</td>\n",
       "      <td>132.250000</td>\n",
       "      <td>yd1:2档</td>\n",
       "    </tr>\n",
       "    <tr>\n",
       "      <th>3</th>\n",
       "      <td>1</td>\n",
       "      <td>381.125000</td>\n",
       "      <td>80.928571</td>\n",
       "      <td>yd1:3档</td>\n",
       "    </tr>\n",
       "    <tr>\n",
       "      <th>4</th>\n",
       "      <td>3</td>\n",
       "      <td>2.979592</td>\n",
       "      <td>0.040816</td>\n",
       "      <td>yd3:关闭</td>\n",
       "    </tr>\n",
       "    <tr>\n",
       "      <th>5</th>\n",
       "      <td>3</td>\n",
       "      <td>17043.676056</td>\n",
       "      <td>20.183099</td>\n",
       "      <td>yd3:打开</td>\n",
       "    </tr>\n",
       "    <tr>\n",
       "      <th>6</th>\n",
       "      <td>5</td>\n",
       "      <td>2.843137</td>\n",
       "      <td>0.039216</td>\n",
       "      <td>yd5:关闭</td>\n",
       "    </tr>\n",
       "    <tr>\n",
       "      <th>7</th>\n",
       "      <td>5</td>\n",
       "      <td>407.344262</td>\n",
       "      <td>6.180328</td>\n",
       "      <td>yd5:打开</td>\n",
       "    </tr>\n",
       "    <tr>\n",
       "      <th>8</th>\n",
       "      <td>6</td>\n",
       "      <td>2.816327</td>\n",
       "      <td>0.000000</td>\n",
       "      <td>yd6:关闭</td>\n",
       "    </tr>\n",
       "    <tr>\n",
       "      <th>9</th>\n",
       "      <td>6</td>\n",
       "      <td>53.100000</td>\n",
       "      <td>11.100000</td>\n",
       "      <td>yd6:打开</td>\n",
       "    </tr>\n",
       "    <tr>\n",
       "      <th>10</th>\n",
       "      <td>8</td>\n",
       "      <td>2.870370</td>\n",
       "      <td>0.166667</td>\n",
       "      <td>yd8:关闭</td>\n",
       "    </tr>\n",
       "    <tr>\n",
       "      <th>11</th>\n",
       "      <td>8</td>\n",
       "      <td>3982.863248</td>\n",
       "      <td>5.572650</td>\n",
       "      <td>yd8:加热</td>\n",
       "    </tr>\n",
       "    <tr>\n",
       "      <th>12</th>\n",
       "      <td>8</td>\n",
       "      <td>446.187050</td>\n",
       "      <td>79.345324</td>\n",
       "      <td>yd8:制冷</td>\n",
       "    </tr>\n",
       "    <tr>\n",
       "      <th>13</th>\n",
       "      <td>8</td>\n",
       "      <td>4386.917051</td>\n",
       "      <td>74.119816</td>\n",
       "      <td>yd8:加热、制冷</td>\n",
       "    </tr>\n",
       "    <tr>\n",
       "      <th>14</th>\n",
       "      <td>8</td>\n",
       "      <td>4017.333333</td>\n",
       "      <td>5.777778</td>\n",
       "      <td>yd8:加热</td>\n",
       "    </tr>\n",
       "    <tr>\n",
       "      <th>15</th>\n",
       "      <td>8</td>\n",
       "      <td>463.800000</td>\n",
       "      <td>0.828571</td>\n",
       "      <td>yd8:保温</td>\n",
       "    </tr>\n",
       "    <tr>\n",
       "      <th>16</th>\n",
       "      <td>8</td>\n",
       "      <td>4007.366667</td>\n",
       "      <td>5.633333</td>\n",
       "      <td>yd8:加热</td>\n",
       "    </tr>\n",
       "    <tr>\n",
       "      <th>17</th>\n",
       "      <td>9</td>\n",
       "      <td>23.630435</td>\n",
       "      <td>13.565217</td>\n",
       "      <td>yd9:关闭</td>\n",
       "    </tr>\n",
       "    <tr>\n",
       "      <th>18</th>\n",
       "      <td>9</td>\n",
       "      <td>209.675325</td>\n",
       "      <td>201.818182</td>\n",
       "      <td>yd9:制冷</td>\n",
       "    </tr>\n",
       "    <tr>\n",
       "      <th>19</th>\n",
       "      <td>9</td>\n",
       "      <td>151.066667</td>\n",
       "      <td>199.800000</td>\n",
       "      <td>yd9:除湿</td>\n",
       "    </tr>\n",
       "    <tr>\n",
       "      <th>20</th>\n",
       "      <td>9</td>\n",
       "      <td>149.907407</td>\n",
       "      <td>202.962963</td>\n",
       "      <td>yd9:辅热</td>\n",
       "    </tr>\n",
       "    <tr>\n",
       "      <th>21</th>\n",
       "      <td>10</td>\n",
       "      <td>9.551020</td>\n",
       "      <td>65.673469</td>\n",
       "      <td>yd10:关闭</td>\n",
       "    </tr>\n",
       "    <tr>\n",
       "      <th>22</th>\n",
       "      <td>10</td>\n",
       "      <td>2515.476923</td>\n",
       "      <td>2400.800000</td>\n",
       "      <td>yd10:1档热风</td>\n",
       "    </tr>\n",
       "    <tr>\n",
       "      <th>23</th>\n",
       "      <td>10</td>\n",
       "      <td>1582.854839</td>\n",
       "      <td>300.629032</td>\n",
       "      <td>yd10:1档冷风</td>\n",
       "    </tr>\n",
       "    <tr>\n",
       "      <th>24</th>\n",
       "      <td>10</td>\n",
       "      <td>12.589286</td>\n",
       "      <td>66.339286</td>\n",
       "      <td>yd10:关闭</td>\n",
       "    </tr>\n",
       "    <tr>\n",
       "      <th>25</th>\n",
       "      <td>10</td>\n",
       "      <td>12632.490385</td>\n",
       "      <td>110.298077</td>\n",
       "      <td>yd10:2档热风</td>\n",
       "    </tr>\n",
       "    <tr>\n",
       "      <th>26</th>\n",
       "      <td>10</td>\n",
       "      <td>3416.893939</td>\n",
       "      <td>74.575758</td>\n",
       "      <td>yd10:2档冷风</td>\n",
       "    </tr>\n",
       "    <tr>\n",
       "      <th>27</th>\n",
       "      <td>11</td>\n",
       "      <td>7.142857</td>\n",
       "      <td>114.795918</td>\n",
       "      <td>yd11:关闭</td>\n",
       "    </tr>\n",
       "    <tr>\n",
       "      <th>28</th>\n",
       "      <td>11</td>\n",
       "      <td>1033.533333</td>\n",
       "      <td>342.766667</td>\n",
       "      <td>yd11:打开</td>\n",
       "    </tr>\n",
       "  </tbody>\n",
       "</table>\n",
       "</div>"
      ],
      "text/plain": [
       "    Equipment number       P value      Q value Steady State\n",
       "0                  1      2.944444     0.018519       yd1:关闭\n",
       "1                  1    285.275862   146.965517       yd1:1档\n",
       "2                  1    334.500000   132.250000       yd1:2档\n",
       "3                  1    381.125000    80.928571       yd1:3档\n",
       "4                  3      2.979592     0.040816       yd3:关闭\n",
       "5                  3  17043.676056    20.183099       yd3:打开\n",
       "6                  5      2.843137     0.039216       yd5:关闭\n",
       "7                  5    407.344262     6.180328       yd5:打开\n",
       "8                  6      2.816327     0.000000       yd6:关闭\n",
       "9                  6     53.100000    11.100000       yd6:打开\n",
       "10                 8      2.870370     0.166667       yd8:关闭\n",
       "11                 8   3982.863248     5.572650       yd8:加热\n",
       "12                 8    446.187050    79.345324       yd8:制冷\n",
       "13                 8   4386.917051    74.119816    yd8:加热、制冷\n",
       "14                 8   4017.333333     5.777778       yd8:加热\n",
       "15                 8    463.800000     0.828571       yd8:保温\n",
       "16                 8   4007.366667     5.633333       yd8:加热\n",
       "17                 9     23.630435    13.565217       yd9:关闭\n",
       "18                 9    209.675325   201.818182       yd9:制冷\n",
       "19                 9    151.066667   199.800000       yd9:除湿\n",
       "20                 9    149.907407   202.962963       yd9:辅热\n",
       "21                10      9.551020    65.673469      yd10:关闭\n",
       "22                10   2515.476923  2400.800000    yd10:1档热风\n",
       "23                10   1582.854839   300.629032    yd10:1档冷风\n",
       "24                10     12.589286    66.339286      yd10:关闭\n",
       "25                10  12632.490385   110.298077    yd10:2档热风\n",
       "26                10   3416.893939    74.575758    yd10:2档冷风\n",
       "27                11      7.142857   114.795918      yd11:关闭\n",
       "28                11   1033.533333   342.766667      yd11:打开"
      ]
     },
     "execution_count": 40,
     "metadata": {},
     "output_type": "execute_result"
    }
   ],
   "source": [
    "steady_df_raw"
   ]
  },
  {
   "cell_type": "code",
   "execution_count": 41,
   "metadata": {
    "collapsed": false
   },
   "outputs": [
    {
     "data": {
      "text/html": [
       "<div>\n",
       "<table border=\"1\" class=\"dataframe\">\n",
       "  <thead>\n",
       "    <tr style=\"text-align: right;\">\n",
       "      <th></th>\n",
       "      <th>Equipment number</th>\n",
       "      <th>P value</th>\n",
       "      <th>Q value</th>\n",
       "      <th>Steady State</th>\n",
       "    </tr>\n",
       "  </thead>\n",
       "  <tbody>\n",
       "    <tr>\n",
       "      <th>0</th>\n",
       "      <td>1</td>\n",
       "      <td>2.944444</td>\n",
       "      <td>0.018519</td>\n",
       "      <td>yd1:关闭</td>\n",
       "    </tr>\n",
       "    <tr>\n",
       "      <th>1</th>\n",
       "      <td>1</td>\n",
       "      <td>285.275862</td>\n",
       "      <td>146.965517</td>\n",
       "      <td>yd1:1档</td>\n",
       "    </tr>\n",
       "    <tr>\n",
       "      <th>2</th>\n",
       "      <td>1</td>\n",
       "      <td>334.500000</td>\n",
       "      <td>132.250000</td>\n",
       "      <td>yd1:2档</td>\n",
       "    </tr>\n",
       "    <tr>\n",
       "      <th>3</th>\n",
       "      <td>1</td>\n",
       "      <td>381.125000</td>\n",
       "      <td>80.928571</td>\n",
       "      <td>yd1:3档</td>\n",
       "    </tr>\n",
       "    <tr>\n",
       "      <th>4</th>\n",
       "      <td>3</td>\n",
       "      <td>2.979592</td>\n",
       "      <td>0.040816</td>\n",
       "      <td>yd3:关闭</td>\n",
       "    </tr>\n",
       "    <tr>\n",
       "      <th>5</th>\n",
       "      <td>3</td>\n",
       "      <td>17043.676056</td>\n",
       "      <td>20.183099</td>\n",
       "      <td>yd3:打开</td>\n",
       "    </tr>\n",
       "    <tr>\n",
       "      <th>6</th>\n",
       "      <td>5</td>\n",
       "      <td>2.843137</td>\n",
       "      <td>0.039216</td>\n",
       "      <td>yd5:关闭</td>\n",
       "    </tr>\n",
       "    <tr>\n",
       "      <th>7</th>\n",
       "      <td>5</td>\n",
       "      <td>407.344262</td>\n",
       "      <td>6.180328</td>\n",
       "      <td>yd5:打开</td>\n",
       "    </tr>\n",
       "    <tr>\n",
       "      <th>8</th>\n",
       "      <td>6</td>\n",
       "      <td>2.816327</td>\n",
       "      <td>0.000000</td>\n",
       "      <td>yd6:关闭</td>\n",
       "    </tr>\n",
       "    <tr>\n",
       "      <th>9</th>\n",
       "      <td>6</td>\n",
       "      <td>53.100000</td>\n",
       "      <td>11.100000</td>\n",
       "      <td>yd6:打开</td>\n",
       "    </tr>\n",
       "    <tr>\n",
       "      <th>10</th>\n",
       "      <td>8</td>\n",
       "      <td>2.870370</td>\n",
       "      <td>0.166667</td>\n",
       "      <td>yd8:关闭</td>\n",
       "    </tr>\n",
       "    <tr>\n",
       "      <th>11</th>\n",
       "      <td>8</td>\n",
       "      <td>446.187050</td>\n",
       "      <td>79.345324</td>\n",
       "      <td>yd8:制冷</td>\n",
       "    </tr>\n",
       "    <tr>\n",
       "      <th>12</th>\n",
       "      <td>8</td>\n",
       "      <td>4386.917051</td>\n",
       "      <td>74.119816</td>\n",
       "      <td>yd8:加热、制冷</td>\n",
       "    </tr>\n",
       "    <tr>\n",
       "      <th>13</th>\n",
       "      <td>8</td>\n",
       "      <td>463.800000</td>\n",
       "      <td>0.828571</td>\n",
       "      <td>yd8:保温</td>\n",
       "    </tr>\n",
       "    <tr>\n",
       "      <th>14</th>\n",
       "      <td>8</td>\n",
       "      <td>4007.366667</td>\n",
       "      <td>5.633333</td>\n",
       "      <td>yd8:加热</td>\n",
       "    </tr>\n",
       "    <tr>\n",
       "      <th>15</th>\n",
       "      <td>9</td>\n",
       "      <td>23.630435</td>\n",
       "      <td>13.565217</td>\n",
       "      <td>yd9:关闭</td>\n",
       "    </tr>\n",
       "    <tr>\n",
       "      <th>16</th>\n",
       "      <td>9</td>\n",
       "      <td>209.675325</td>\n",
       "      <td>201.818182</td>\n",
       "      <td>yd9:制冷</td>\n",
       "    </tr>\n",
       "    <tr>\n",
       "      <th>17</th>\n",
       "      <td>9</td>\n",
       "      <td>151.066667</td>\n",
       "      <td>199.800000</td>\n",
       "      <td>yd9:除湿</td>\n",
       "    </tr>\n",
       "    <tr>\n",
       "      <th>18</th>\n",
       "      <td>9</td>\n",
       "      <td>149.907407</td>\n",
       "      <td>202.962963</td>\n",
       "      <td>yd9:辅热</td>\n",
       "    </tr>\n",
       "    <tr>\n",
       "      <th>19</th>\n",
       "      <td>10</td>\n",
       "      <td>9.551020</td>\n",
       "      <td>65.673469</td>\n",
       "      <td>yd10:关闭</td>\n",
       "    </tr>\n",
       "    <tr>\n",
       "      <th>20</th>\n",
       "      <td>10</td>\n",
       "      <td>2515.476923</td>\n",
       "      <td>2400.800000</td>\n",
       "      <td>yd10:1档热风</td>\n",
       "    </tr>\n",
       "    <tr>\n",
       "      <th>21</th>\n",
       "      <td>10</td>\n",
       "      <td>1582.854839</td>\n",
       "      <td>300.629032</td>\n",
       "      <td>yd10:1档冷风</td>\n",
       "    </tr>\n",
       "    <tr>\n",
       "      <th>22</th>\n",
       "      <td>10</td>\n",
       "      <td>12632.490385</td>\n",
       "      <td>110.298077</td>\n",
       "      <td>yd10:2档热风</td>\n",
       "    </tr>\n",
       "    <tr>\n",
       "      <th>23</th>\n",
       "      <td>10</td>\n",
       "      <td>3416.893939</td>\n",
       "      <td>74.575758</td>\n",
       "      <td>yd10:2档冷风</td>\n",
       "    </tr>\n",
       "    <tr>\n",
       "      <th>24</th>\n",
       "      <td>11</td>\n",
       "      <td>7.142857</td>\n",
       "      <td>114.795918</td>\n",
       "      <td>yd11:关闭</td>\n",
       "    </tr>\n",
       "    <tr>\n",
       "      <th>25</th>\n",
       "      <td>11</td>\n",
       "      <td>1033.533333</td>\n",
       "      <td>342.766667</td>\n",
       "      <td>yd11:打开</td>\n",
       "    </tr>\n",
       "  </tbody>\n",
       "</table>\n",
       "</div>"
      ],
      "text/plain": [
       "    Equipment number       P value      Q value Steady State\n",
       "0                  1      2.944444     0.018519       yd1:关闭\n",
       "1                  1    285.275862   146.965517       yd1:1档\n",
       "2                  1    334.500000   132.250000       yd1:2档\n",
       "3                  1    381.125000    80.928571       yd1:3档\n",
       "4                  3      2.979592     0.040816       yd3:关闭\n",
       "5                  3  17043.676056    20.183099       yd3:打开\n",
       "6                  5      2.843137     0.039216       yd5:关闭\n",
       "7                  5    407.344262     6.180328       yd5:打开\n",
       "8                  6      2.816327     0.000000       yd6:关闭\n",
       "9                  6     53.100000    11.100000       yd6:打开\n",
       "10                 8      2.870370     0.166667       yd8:关闭\n",
       "11                 8    446.187050    79.345324       yd8:制冷\n",
       "12                 8   4386.917051    74.119816    yd8:加热、制冷\n",
       "13                 8    463.800000     0.828571       yd8:保温\n",
       "14                 8   4007.366667     5.633333       yd8:加热\n",
       "15                 9     23.630435    13.565217       yd9:关闭\n",
       "16                 9    209.675325   201.818182       yd9:制冷\n",
       "17                 9    151.066667   199.800000       yd9:除湿\n",
       "18                 9    149.907407   202.962963       yd9:辅热\n",
       "19                10      9.551020    65.673469      yd10:关闭\n",
       "20                10   2515.476923  2400.800000    yd10:1档热风\n",
       "21                10   1582.854839   300.629032    yd10:1档冷风\n",
       "22                10  12632.490385   110.298077    yd10:2档热风\n",
       "23                10   3416.893939    74.575758    yd10:2档冷风\n",
       "24                11      7.142857   114.795918      yd11:关闭\n",
       "25                11   1033.533333   342.766667      yd11:打开"
      ]
     },
     "execution_count": 41,
     "metadata": {},
     "output_type": "execute_result"
    }
   ],
   "source": [
    "steady_df=steady_df_raw.drop(steady_df_raw.index[[11,14,24]])\n",
    "steady_df.reset_index(drop=True)"
   ]
  },
  {
   "cell_type": "code",
   "execution_count": 164,
   "metadata": {
    "collapsed": false
   },
   "outputs": [],
   "source": [
    "steady_df=steady_df.reset_index(drop=True)\n",
    "steady_df.to_csv('steady_states.csv', index=False,encoding = 'utf-8')"
   ]
  },
  {
   "cell_type": "markdown",
   "metadata": {},
   "source": [
    "# It was found that yd8's steady state is actually not stable!! So the average doesn't reflect its real steady state value."
   ]
  },
  {
   "cell_type": "code",
   "execution_count": 42,
   "metadata": {
    "collapsed": false
   },
   "outputs": [
    {
     "data": {
      "text/html": [
       "<div>\n",
       "<table border=\"1\" class=\"dataframe\">\n",
       "  <thead>\n",
       "    <tr style=\"text-align: right;\">\n",
       "      <th></th>\n",
       "      <th>Equipment number</th>\n",
       "      <th>P value</th>\n",
       "      <th>Q value</th>\n",
       "      <th>Steady State</th>\n",
       "    </tr>\n",
       "  </thead>\n",
       "  <tbody>\n",
       "    <tr>\n",
       "      <th>0</th>\n",
       "      <td>1</td>\n",
       "      <td>2.944444</td>\n",
       "      <td>0.018519</td>\n",
       "      <td>yd1:关闭</td>\n",
       "    </tr>\n",
       "    <tr>\n",
       "      <th>1</th>\n",
       "      <td>1</td>\n",
       "      <td>285.275862</td>\n",
       "      <td>146.965517</td>\n",
       "      <td>yd1:1档</td>\n",
       "    </tr>\n",
       "    <tr>\n",
       "      <th>2</th>\n",
       "      <td>1</td>\n",
       "      <td>334.500000</td>\n",
       "      <td>132.250000</td>\n",
       "      <td>yd1:2档</td>\n",
       "    </tr>\n",
       "    <tr>\n",
       "      <th>3</th>\n",
       "      <td>1</td>\n",
       "      <td>381.125000</td>\n",
       "      <td>80.928571</td>\n",
       "      <td>yd1:3档</td>\n",
       "    </tr>\n",
       "  </tbody>\n",
       "</table>\n",
       "</div>"
      ],
      "text/plain": [
       "   Equipment number     P value     Q value Steady State\n",
       "0                 1    2.944444    0.018519       yd1:关闭\n",
       "1                 1  285.275862  146.965517       yd1:1档\n",
       "2                 1  334.500000  132.250000       yd1:2档\n",
       "3                 1  381.125000   80.928571       yd1:3档"
      ]
     },
     "execution_count": 42,
     "metadata": {},
     "output_type": "execute_result"
    }
   ],
   "source": [
    "steady_df.loc[steady_df['Equipment number'] == 1]"
   ]
  },
  {
   "cell_type": "markdown",
   "metadata": {},
   "source": [
    "### Based on the P,Q values of steady states, we can calculate the difference between the steady states."
   ]
  },
  {
   "cell_type": "code",
   "execution_count": 43,
   "metadata": {
    "collapsed": false
   },
   "outputs": [],
   "source": [
    "from itertools import combinations\n",
    "trans_label= []\n",
    "trans_p = []\n",
    "trans_q = []\n",
    "for i in [1,3,5,6,8,9,10,11]:\n",
    "#for i in [1]:\n",
    "    subset = steady_df.loc[steady_df['Equipment number'] == i]\n",
    "    label = subset['Steady State'].values\n",
    "    data_p = subset['P value'].values\n",
    "    data_q = subset['Q value'].values\n",
    "    for pair in list(combinations(range(len(label)),2)):\n",
    "        trans_label.append(label[pair[0]]+' to '+label[pair[1]])\n",
    "        trans_p.append(data_p[pair[1]]-data_p[pair[0]])\n",
    "        trans_q.append(data_q[pair[1]]-data_q[pair[0]])\n",
    "        trans_label.append(label[pair[1]]+' to '+label[pair[0]])\n",
    "        trans_p.append(data_p[pair[0]]-data_p[pair[1]])\n",
    "        trans_q.append(data_q[pair[0]]-data_q[pair[1]])\n",
    "        "
   ]
  },
  {
   "cell_type": "code",
   "execution_count": 44,
   "metadata": {
    "collapsed": false
   },
   "outputs": [],
   "source": [
    "trans_dict = {\n",
    "    'Transitions': trans_label,\n",
    "    'P value change' : trans_p,\n",
    "    'Q value change' : trans_q\n",
    "    }\n",
    "trans_df = pd.DataFrame(trans_dict)"
   ]
  },
  {
   "cell_type": "code",
   "execution_count": 45,
   "metadata": {
    "collapsed": false,
    "scrolled": true
   },
   "outputs": [
    {
     "data": {
      "text/html": [
       "<div>\n",
       "<table border=\"1\" class=\"dataframe\">\n",
       "  <thead>\n",
       "    <tr style=\"text-align: right;\">\n",
       "      <th></th>\n",
       "      <th>P value change</th>\n",
       "      <th>Q value change</th>\n",
       "      <th>Transitions</th>\n",
       "    </tr>\n",
       "  </thead>\n",
       "  <tbody>\n",
       "    <tr>\n",
       "      <th>0</th>\n",
       "      <td>282.331418</td>\n",
       "      <td>146.946999</td>\n",
       "      <td>yd1:关闭 to yd1:1档</td>\n",
       "    </tr>\n",
       "    <tr>\n",
       "      <th>1</th>\n",
       "      <td>-282.331418</td>\n",
       "      <td>-146.946999</td>\n",
       "      <td>yd1:1档 to yd1:关闭</td>\n",
       "    </tr>\n",
       "    <tr>\n",
       "      <th>2</th>\n",
       "      <td>331.555556</td>\n",
       "      <td>132.231481</td>\n",
       "      <td>yd1:关闭 to yd1:2档</td>\n",
       "    </tr>\n",
       "    <tr>\n",
       "      <th>3</th>\n",
       "      <td>-331.555556</td>\n",
       "      <td>-132.231481</td>\n",
       "      <td>yd1:2档 to yd1:关闭</td>\n",
       "    </tr>\n",
       "    <tr>\n",
       "      <th>4</th>\n",
       "      <td>378.180556</td>\n",
       "      <td>80.910053</td>\n",
       "      <td>yd1:关闭 to yd1:3档</td>\n",
       "    </tr>\n",
       "    <tr>\n",
       "      <th>5</th>\n",
       "      <td>-378.180556</td>\n",
       "      <td>-80.910053</td>\n",
       "      <td>yd1:3档 to yd1:关闭</td>\n",
       "    </tr>\n",
       "    <tr>\n",
       "      <th>6</th>\n",
       "      <td>49.224138</td>\n",
       "      <td>-14.715517</td>\n",
       "      <td>yd1:1档 to yd1:2档</td>\n",
       "    </tr>\n",
       "    <tr>\n",
       "      <th>7</th>\n",
       "      <td>-49.224138</td>\n",
       "      <td>14.715517</td>\n",
       "      <td>yd1:2档 to yd1:1档</td>\n",
       "    </tr>\n",
       "    <tr>\n",
       "      <th>8</th>\n",
       "      <td>95.849138</td>\n",
       "      <td>-66.036946</td>\n",
       "      <td>yd1:1档 to yd1:3档</td>\n",
       "    </tr>\n",
       "    <tr>\n",
       "      <th>9</th>\n",
       "      <td>-95.849138</td>\n",
       "      <td>66.036946</td>\n",
       "      <td>yd1:3档 to yd1:1档</td>\n",
       "    </tr>\n",
       "    <tr>\n",
       "      <th>10</th>\n",
       "      <td>46.625000</td>\n",
       "      <td>-51.321429</td>\n",
       "      <td>yd1:2档 to yd1:3档</td>\n",
       "    </tr>\n",
       "    <tr>\n",
       "      <th>11</th>\n",
       "      <td>-46.625000</td>\n",
       "      <td>51.321429</td>\n",
       "      <td>yd1:3档 to yd1:2档</td>\n",
       "    </tr>\n",
       "    <tr>\n",
       "      <th>12</th>\n",
       "      <td>17040.696465</td>\n",
       "      <td>20.142282</td>\n",
       "      <td>yd3:关闭 to yd3:打开</td>\n",
       "    </tr>\n",
       "    <tr>\n",
       "      <th>13</th>\n",
       "      <td>-17040.696465</td>\n",
       "      <td>-20.142282</td>\n",
       "      <td>yd3:打开 to yd3:关闭</td>\n",
       "    </tr>\n",
       "    <tr>\n",
       "      <th>14</th>\n",
       "      <td>404.501125</td>\n",
       "      <td>6.141112</td>\n",
       "      <td>yd5:关闭 to yd5:打开</td>\n",
       "    </tr>\n",
       "    <tr>\n",
       "      <th>15</th>\n",
       "      <td>-404.501125</td>\n",
       "      <td>-6.141112</td>\n",
       "      <td>yd5:打开 to yd5:关闭</td>\n",
       "    </tr>\n",
       "    <tr>\n",
       "      <th>16</th>\n",
       "      <td>50.283673</td>\n",
       "      <td>11.100000</td>\n",
       "      <td>yd6:关闭 to yd6:打开</td>\n",
       "    </tr>\n",
       "    <tr>\n",
       "      <th>17</th>\n",
       "      <td>-50.283673</td>\n",
       "      <td>-11.100000</td>\n",
       "      <td>yd6:打开 to yd6:关闭</td>\n",
       "    </tr>\n",
       "    <tr>\n",
       "      <th>18</th>\n",
       "      <td>443.316680</td>\n",
       "      <td>79.178657</td>\n",
       "      <td>yd8:关闭 to yd8:制冷</td>\n",
       "    </tr>\n",
       "    <tr>\n",
       "      <th>19</th>\n",
       "      <td>-443.316680</td>\n",
       "      <td>-79.178657</td>\n",
       "      <td>yd8:制冷 to yd8:关闭</td>\n",
       "    </tr>\n",
       "    <tr>\n",
       "      <th>20</th>\n",
       "      <td>4384.046680</td>\n",
       "      <td>73.953149</td>\n",
       "      <td>yd8:关闭 to yd8:加热、制冷</td>\n",
       "    </tr>\n",
       "    <tr>\n",
       "      <th>21</th>\n",
       "      <td>-4384.046680</td>\n",
       "      <td>-73.953149</td>\n",
       "      <td>yd8:加热、制冷 to yd8:关闭</td>\n",
       "    </tr>\n",
       "    <tr>\n",
       "      <th>22</th>\n",
       "      <td>460.929630</td>\n",
       "      <td>0.661905</td>\n",
       "      <td>yd8:关闭 to yd8:保温</td>\n",
       "    </tr>\n",
       "    <tr>\n",
       "      <th>23</th>\n",
       "      <td>-460.929630</td>\n",
       "      <td>-0.661905</td>\n",
       "      <td>yd8:保温 to yd8:关闭</td>\n",
       "    </tr>\n",
       "    <tr>\n",
       "      <th>24</th>\n",
       "      <td>4004.496296</td>\n",
       "      <td>5.466667</td>\n",
       "      <td>yd8:关闭 to yd8:加热</td>\n",
       "    </tr>\n",
       "    <tr>\n",
       "      <th>25</th>\n",
       "      <td>-4004.496296</td>\n",
       "      <td>-5.466667</td>\n",
       "      <td>yd8:加热 to yd8:关闭</td>\n",
       "    </tr>\n",
       "    <tr>\n",
       "      <th>26</th>\n",
       "      <td>3940.730000</td>\n",
       "      <td>-5.225508</td>\n",
       "      <td>yd8:制冷 to yd8:加热、制冷</td>\n",
       "    </tr>\n",
       "    <tr>\n",
       "      <th>27</th>\n",
       "      <td>-3940.730000</td>\n",
       "      <td>5.225508</td>\n",
       "      <td>yd8:加热、制冷 to yd8:制冷</td>\n",
       "    </tr>\n",
       "    <tr>\n",
       "      <th>28</th>\n",
       "      <td>17.612950</td>\n",
       "      <td>-78.516752</td>\n",
       "      <td>yd8:制冷 to yd8:保温</td>\n",
       "    </tr>\n",
       "    <tr>\n",
       "      <th>29</th>\n",
       "      <td>-17.612950</td>\n",
       "      <td>78.516752</td>\n",
       "      <td>yd8:保温 to yd8:制冷</td>\n",
       "    </tr>\n",
       "    <tr>\n",
       "      <th>...</th>\n",
       "      <td>...</td>\n",
       "      <td>...</td>\n",
       "      <td>...</td>\n",
       "    </tr>\n",
       "    <tr>\n",
       "      <th>42</th>\n",
       "      <td>126.276973</td>\n",
       "      <td>189.397746</td>\n",
       "      <td>yd9:关闭 to yd9:辅热</td>\n",
       "    </tr>\n",
       "    <tr>\n",
       "      <th>43</th>\n",
       "      <td>-126.276973</td>\n",
       "      <td>-189.397746</td>\n",
       "      <td>yd9:辅热 to yd9:关闭</td>\n",
       "    </tr>\n",
       "    <tr>\n",
       "      <th>44</th>\n",
       "      <td>-58.608658</td>\n",
       "      <td>-2.018182</td>\n",
       "      <td>yd9:制冷 to yd9:除湿</td>\n",
       "    </tr>\n",
       "    <tr>\n",
       "      <th>45</th>\n",
       "      <td>58.608658</td>\n",
       "      <td>2.018182</td>\n",
       "      <td>yd9:除湿 to yd9:制冷</td>\n",
       "    </tr>\n",
       "    <tr>\n",
       "      <th>46</th>\n",
       "      <td>-59.767917</td>\n",
       "      <td>1.144781</td>\n",
       "      <td>yd9:制冷 to yd9:辅热</td>\n",
       "    </tr>\n",
       "    <tr>\n",
       "      <th>47</th>\n",
       "      <td>59.767917</td>\n",
       "      <td>-1.144781</td>\n",
       "      <td>yd9:辅热 to yd9:制冷</td>\n",
       "    </tr>\n",
       "    <tr>\n",
       "      <th>48</th>\n",
       "      <td>-1.159259</td>\n",
       "      <td>3.162963</td>\n",
       "      <td>yd9:除湿 to yd9:辅热</td>\n",
       "    </tr>\n",
       "    <tr>\n",
       "      <th>49</th>\n",
       "      <td>1.159259</td>\n",
       "      <td>-3.162963</td>\n",
       "      <td>yd9:辅热 to yd9:除湿</td>\n",
       "    </tr>\n",
       "    <tr>\n",
       "      <th>50</th>\n",
       "      <td>2505.925903</td>\n",
       "      <td>2335.126531</td>\n",
       "      <td>yd10:关闭 to yd10:1档热风</td>\n",
       "    </tr>\n",
       "    <tr>\n",
       "      <th>51</th>\n",
       "      <td>-2505.925903</td>\n",
       "      <td>-2335.126531</td>\n",
       "      <td>yd10:1档热风 to yd10:关闭</td>\n",
       "    </tr>\n",
       "    <tr>\n",
       "      <th>52</th>\n",
       "      <td>1573.303818</td>\n",
       "      <td>234.955563</td>\n",
       "      <td>yd10:关闭 to yd10:1档冷风</td>\n",
       "    </tr>\n",
       "    <tr>\n",
       "      <th>53</th>\n",
       "      <td>-1573.303818</td>\n",
       "      <td>-234.955563</td>\n",
       "      <td>yd10:1档冷风 to yd10:关闭</td>\n",
       "    </tr>\n",
       "    <tr>\n",
       "      <th>54</th>\n",
       "      <td>12622.939364</td>\n",
       "      <td>44.624608</td>\n",
       "      <td>yd10:关闭 to yd10:2档热风</td>\n",
       "    </tr>\n",
       "    <tr>\n",
       "      <th>55</th>\n",
       "      <td>-12622.939364</td>\n",
       "      <td>-44.624608</td>\n",
       "      <td>yd10:2档热风 to yd10:关闭</td>\n",
       "    </tr>\n",
       "    <tr>\n",
       "      <th>56</th>\n",
       "      <td>3407.342919</td>\n",
       "      <td>8.902288</td>\n",
       "      <td>yd10:关闭 to yd10:2档冷风</td>\n",
       "    </tr>\n",
       "    <tr>\n",
       "      <th>57</th>\n",
       "      <td>-3407.342919</td>\n",
       "      <td>-8.902288</td>\n",
       "      <td>yd10:2档冷风 to yd10:关闭</td>\n",
       "    </tr>\n",
       "    <tr>\n",
       "      <th>58</th>\n",
       "      <td>-932.622084</td>\n",
       "      <td>-2100.170968</td>\n",
       "      <td>yd10:1档热风 to yd10:1档冷风</td>\n",
       "    </tr>\n",
       "    <tr>\n",
       "      <th>59</th>\n",
       "      <td>932.622084</td>\n",
       "      <td>2100.170968</td>\n",
       "      <td>yd10:1档冷风 to yd10:1档热风</td>\n",
       "    </tr>\n",
       "    <tr>\n",
       "      <th>60</th>\n",
       "      <td>10117.013462</td>\n",
       "      <td>-2290.501923</td>\n",
       "      <td>yd10:1档热风 to yd10:2档热风</td>\n",
       "    </tr>\n",
       "    <tr>\n",
       "      <th>61</th>\n",
       "      <td>-10117.013462</td>\n",
       "      <td>2290.501923</td>\n",
       "      <td>yd10:2档热风 to yd10:1档热风</td>\n",
       "    </tr>\n",
       "    <tr>\n",
       "      <th>62</th>\n",
       "      <td>901.417016</td>\n",
       "      <td>-2326.224242</td>\n",
       "      <td>yd10:1档热风 to yd10:2档冷风</td>\n",
       "    </tr>\n",
       "    <tr>\n",
       "      <th>63</th>\n",
       "      <td>-901.417016</td>\n",
       "      <td>2326.224242</td>\n",
       "      <td>yd10:2档冷风 to yd10:1档热风</td>\n",
       "    </tr>\n",
       "    <tr>\n",
       "      <th>64</th>\n",
       "      <td>11049.635546</td>\n",
       "      <td>-190.330955</td>\n",
       "      <td>yd10:1档冷风 to yd10:2档热风</td>\n",
       "    </tr>\n",
       "    <tr>\n",
       "      <th>65</th>\n",
       "      <td>-11049.635546</td>\n",
       "      <td>190.330955</td>\n",
       "      <td>yd10:2档热风 to yd10:1档冷风</td>\n",
       "    </tr>\n",
       "    <tr>\n",
       "      <th>66</th>\n",
       "      <td>1834.039101</td>\n",
       "      <td>-226.053275</td>\n",
       "      <td>yd10:1档冷风 to yd10:2档冷风</td>\n",
       "    </tr>\n",
       "    <tr>\n",
       "      <th>67</th>\n",
       "      <td>-1834.039101</td>\n",
       "      <td>226.053275</td>\n",
       "      <td>yd10:2档冷风 to yd10:1档冷风</td>\n",
       "    </tr>\n",
       "    <tr>\n",
       "      <th>68</th>\n",
       "      <td>-9215.596445</td>\n",
       "      <td>-35.722319</td>\n",
       "      <td>yd10:2档热风 to yd10:2档冷风</td>\n",
       "    </tr>\n",
       "    <tr>\n",
       "      <th>69</th>\n",
       "      <td>9215.596445</td>\n",
       "      <td>35.722319</td>\n",
       "      <td>yd10:2档冷风 to yd10:2档热风</td>\n",
       "    </tr>\n",
       "    <tr>\n",
       "      <th>70</th>\n",
       "      <td>1026.390476</td>\n",
       "      <td>227.970748</td>\n",
       "      <td>yd11:关闭 to yd11:打开</td>\n",
       "    </tr>\n",
       "    <tr>\n",
       "      <th>71</th>\n",
       "      <td>-1026.390476</td>\n",
       "      <td>-227.970748</td>\n",
       "      <td>yd11:打开 to yd11:关闭</td>\n",
       "    </tr>\n",
       "  </tbody>\n",
       "</table>\n",
       "<p>72 rows × 3 columns</p>\n",
       "</div>"
      ],
      "text/plain": [
       "    P value change  Q value change             Transitions\n",
       "0       282.331418      146.946999        yd1:关闭 to yd1:1档\n",
       "1      -282.331418     -146.946999        yd1:1档 to yd1:关闭\n",
       "2       331.555556      132.231481        yd1:关闭 to yd1:2档\n",
       "3      -331.555556     -132.231481        yd1:2档 to yd1:关闭\n",
       "4       378.180556       80.910053        yd1:关闭 to yd1:3档\n",
       "5      -378.180556      -80.910053        yd1:3档 to yd1:关闭\n",
       "6        49.224138      -14.715517        yd1:1档 to yd1:2档\n",
       "7       -49.224138       14.715517        yd1:2档 to yd1:1档\n",
       "8        95.849138      -66.036946        yd1:1档 to yd1:3档\n",
       "9       -95.849138       66.036946        yd1:3档 to yd1:1档\n",
       "10       46.625000      -51.321429        yd1:2档 to yd1:3档\n",
       "11      -46.625000       51.321429        yd1:3档 to yd1:2档\n",
       "12    17040.696465       20.142282        yd3:关闭 to yd3:打开\n",
       "13   -17040.696465      -20.142282        yd3:打开 to yd3:关闭\n",
       "14      404.501125        6.141112        yd5:关闭 to yd5:打开\n",
       "15     -404.501125       -6.141112        yd5:打开 to yd5:关闭\n",
       "16       50.283673       11.100000        yd6:关闭 to yd6:打开\n",
       "17      -50.283673      -11.100000        yd6:打开 to yd6:关闭\n",
       "18      443.316680       79.178657        yd8:关闭 to yd8:制冷\n",
       "19     -443.316680      -79.178657        yd8:制冷 to yd8:关闭\n",
       "20     4384.046680       73.953149     yd8:关闭 to yd8:加热、制冷\n",
       "21    -4384.046680      -73.953149     yd8:加热、制冷 to yd8:关闭\n",
       "22      460.929630        0.661905        yd8:关闭 to yd8:保温\n",
       "23     -460.929630       -0.661905        yd8:保温 to yd8:关闭\n",
       "24     4004.496296        5.466667        yd8:关闭 to yd8:加热\n",
       "25    -4004.496296       -5.466667        yd8:加热 to yd8:关闭\n",
       "26     3940.730000       -5.225508     yd8:制冷 to yd8:加热、制冷\n",
       "27    -3940.730000        5.225508     yd8:加热、制冷 to yd8:制冷\n",
       "28       17.612950      -78.516752        yd8:制冷 to yd8:保温\n",
       "29      -17.612950       78.516752        yd8:保温 to yd8:制冷\n",
       "..             ...             ...                     ...\n",
       "42      126.276973      189.397746        yd9:关闭 to yd9:辅热\n",
       "43     -126.276973     -189.397746        yd9:辅热 to yd9:关闭\n",
       "44      -58.608658       -2.018182        yd9:制冷 to yd9:除湿\n",
       "45       58.608658        2.018182        yd9:除湿 to yd9:制冷\n",
       "46      -59.767917        1.144781        yd9:制冷 to yd9:辅热\n",
       "47       59.767917       -1.144781        yd9:辅热 to yd9:制冷\n",
       "48       -1.159259        3.162963        yd9:除湿 to yd9:辅热\n",
       "49        1.159259       -3.162963        yd9:辅热 to yd9:除湿\n",
       "50     2505.925903     2335.126531    yd10:关闭 to yd10:1档热风\n",
       "51    -2505.925903    -2335.126531    yd10:1档热风 to yd10:关闭\n",
       "52     1573.303818      234.955563    yd10:关闭 to yd10:1档冷风\n",
       "53    -1573.303818     -234.955563    yd10:1档冷风 to yd10:关闭\n",
       "54    12622.939364       44.624608    yd10:关闭 to yd10:2档热风\n",
       "55   -12622.939364      -44.624608    yd10:2档热风 to yd10:关闭\n",
       "56     3407.342919        8.902288    yd10:关闭 to yd10:2档冷风\n",
       "57    -3407.342919       -8.902288    yd10:2档冷风 to yd10:关闭\n",
       "58     -932.622084    -2100.170968  yd10:1档热风 to yd10:1档冷风\n",
       "59      932.622084     2100.170968  yd10:1档冷风 to yd10:1档热风\n",
       "60    10117.013462    -2290.501923  yd10:1档热风 to yd10:2档热风\n",
       "61   -10117.013462     2290.501923  yd10:2档热风 to yd10:1档热风\n",
       "62      901.417016    -2326.224242  yd10:1档热风 to yd10:2档冷风\n",
       "63     -901.417016     2326.224242  yd10:2档冷风 to yd10:1档热风\n",
       "64    11049.635546     -190.330955  yd10:1档冷风 to yd10:2档热风\n",
       "65   -11049.635546      190.330955  yd10:2档热风 to yd10:1档冷风\n",
       "66     1834.039101     -226.053275  yd10:1档冷风 to yd10:2档冷风\n",
       "67    -1834.039101      226.053275  yd10:2档冷风 to yd10:1档冷风\n",
       "68    -9215.596445      -35.722319  yd10:2档热风 to yd10:2档冷风\n",
       "69     9215.596445       35.722319  yd10:2档冷风 to yd10:2档热风\n",
       "70     1026.390476      227.970748      yd11:关闭 to yd11:打开\n",
       "71    -1026.390476     -227.970748      yd11:打开 to yd11:关闭\n",
       "\n",
       "[72 rows x 3 columns]"
      ]
     },
     "execution_count": 45,
     "metadata": {},
     "output_type": "execute_result"
    }
   ],
   "source": [
    "trans_df"
   ]
  },
  {
   "cell_type": "code",
   "execution_count": null,
   "metadata": {
    "collapsed": true
   },
   "outputs": [],
   "source": []
  },
  {
   "cell_type": "code",
   "execution_count": 46,
   "metadata": {
    "collapsed": false
   },
   "outputs": [],
   "source": [
    "sys.path.append('C:\\Users\\Administrator\\git\\NILM\\pulse_method')\n",
    "from useful_feature_module import sweep_get_std, sweep_get_diff, sweep_get_mean, compute_useful_feature\n",
    "from waveform_characterizing_module import characterize_pulse"
   ]
  },
  {
   "cell_type": "code",
   "execution_count": 47,
   "metadata": {
    "collapsed": true
   },
   "outputs": [],
   "source": [
    "processed_data = compute_useful_feature(equip_data[0], diff = 2, input_feature = ['P' ,'Q'])"
   ]
  },
  {
   "cell_type": "code",
   "execution_count": 48,
   "metadata": {
    "collapsed": false
   },
   "outputs": [],
   "source": [
    "processed_data['time_sec']=range(processed_data.shape[0])"
   ]
  },
  {
   "cell_type": "code",
   "execution_count": 49,
   "metadata": {
    "collapsed": false
   },
   "outputs": [],
   "source": [
    "[pulse_area,pulse_trig_t,pulse_heith_t,pulse_end_t,pulse_h] = characterize_pulse(processed_data, 'P_2pDiff', posi_thresh=20, nega_thresh=-20)"
   ]
  },
  {
   "cell_type": "code",
   "execution_count": 50,
   "metadata": {
    "collapsed": false
   },
   "outputs": [
    {
     "data": {
      "text/plain": [
       "array([ 58, 121, 126, 185], dtype=int64)"
      ]
     },
     "execution_count": 50,
     "metadata": {},
     "output_type": "execute_result"
    }
   ],
   "source": [
    "pulse_heith_t"
   ]
  },
  {
   "cell_type": "code",
   "execution_count": 51,
   "metadata": {
    "collapsed": false
   },
   "outputs": [
    {
     "data": {
      "text/plain": [
       "array([ 56,  57,  58,  59,  60, 119, 120, 121, 122, 123, 124, 125, 126,\n",
       "       127, 128, 183, 184, 185, 186, 187], dtype=int64)"
      ]
     },
     "execution_count": 51,
     "metadata": {},
     "output_type": "execute_result"
    }
   ],
   "source": [
    "index = np.array([[i-2,i-1,i,i+1,i+2] for i in pulse_heith_t]).flatten()\n",
    "index"
   ]
  },
  {
   "cell_type": "code",
   "execution_count": 52,
   "metadata": {
    "collapsed": false
   },
   "outputs": [
    {
     "data": {
      "image/png": "[encoded data removed]",
      "text/plain": [
       "<matplotlib.figure.Figure at 0x105acc50>"
      ]
     },
     "metadata": {},
     "output_type": "display_data"
    }
   ],
   "source": [
    "%matplotlib inline\n",
    "mask = np.ones(len(equip_data[0]['P'].values), dtype=bool)\n",
    "mask[index] = False\n",
    "result = equip_data[0]['P'].values[mask]\n",
    "plt.plot(result)\n",
    "plt.show()"
   ]
  },
  {
   "cell_type": "code",
   "execution_count": 117,
   "metadata": {
    "collapsed": true
   },
   "outputs": [],
   "source": [
    "def peak_remover(arr, threshold):\n",
    "    '''\n",
    "    arr : a numpy array that need to remove peaks\n",
    "    threshold : the threshold to determine what peaks to remove\n",
    "    '''\n",
    "    # The following code was adapted from DQ's module\n",
    "    wf = np.array([0] + list(np.diff(arr)))\n",
    "    time_s = np.array(range(len(wf)))\n",
    "    \n",
    "    pulse_wf = [] # pulse waveform, this is not part of output\n",
    "    pulse_area = [] # pulse area\n",
    "    pulse_trig_t = [] # time of first point that is triggered\n",
    "    pulse_heith_t = [] # height point time\n",
    "    pulse_end_t = [] # time of last point that is triggered\n",
    "    pulse_h = [] # pulse height\n",
    "    \n",
    "    posi_thresh = threshold \n",
    "    nega_thresh = -threshold\n",
    "    cut_p = (wf > posi_thresh)\n",
    "    cut_p_diff = np.diff(cut_p*1) # convert boolean to number \n",
    "    pp_start_idx = np.where(cut_p_diff == 1)[0] + 1 # first index cutted out by diff - python index (starts with 0)\n",
    "    pp_end_idx = np.where(cut_p_diff == -1)[0] # we don't need +1 here somehow - python index (starts with 0)\n",
    "\n",
    "    for i in range(0, min([len(pp_start_idx),len(pp_end_idx)])):\n",
    "        temp_pulse_wf = wf[np.array(range(pp_start_idx[i],pp_end_idx[i]+1))]\n",
    "        temp_pulse_time_s = time_s[np.array(range(pp_start_idx[i],pp_end_idx[i]+1))]\n",
    "        pulse_wf.append(temp_pulse_wf)\n",
    "        pulse_area.append(temp_pulse_wf.sum())\n",
    "        pulse_h.append(temp_pulse_wf.max())\n",
    "        pulse_trig_t.append(temp_pulse_time_s[0])\n",
    "        cut_pulse_heigh_t = np.where(temp_pulse_wf == temp_pulse_wf.max())\n",
    "        pulse_heith_t.append(temp_pulse_time_s[cut_pulse_heigh_t[0][0]])\n",
    "        pulse_end_t.append(temp_pulse_time_s[-1])\n",
    "        \n",
    "    cut_n = (wf < nega_thresh)\n",
    "    cut_n_diff = np.diff(cut_n*1)\n",
    "    np_start_idx = np.where(cut_n_diff == 1)[0] + 1\n",
    "    np_end_idx = np.where(cut_n_diff == -1)[0]\n",
    "    \n",
    "    for i in range(0, min([len(np_start_idx),len(np_end_idx)])):\n",
    "        temp_pulse_wf = wf[np.array(range(np_start_idx[i],np_end_idx[i]+1))]\n",
    "        temp_pulse_time_s = time_s[np.array(range(np_start_idx[i],np_end_idx[i]+1))]\n",
    "        pulse_wf.append(temp_pulse_wf)\n",
    "        pulse_area.append(temp_pulse_wf.sum())\n",
    "        pulse_h.append(temp_pulse_wf.min())\n",
    "        pulse_trig_t.append(temp_pulse_time_s[0])\n",
    "        cut_pulse_heigh_t = np.where(temp_pulse_wf == temp_pulse_wf.min())\n",
    "        pulse_heith_t.append(temp_pulse_time_s[cut_pulse_heigh_t[0][0]])\n",
    "        pulse_end_t.append(temp_pulse_time_s[-1])\n",
    "        \n",
    "    pulse_area = np.array(pulse_area)\n",
    "    pulse_trig_t = np.array(pulse_trig_t)\n",
    "    pulse_heith_t = np.array(pulse_heith_t)\n",
    "    pulse_end_t = np.array(pulse_end_t)\n",
    "    pulse_h = np.array(pulse_h)\n",
    "    \n",
    "    index = np.argsort(pulse_trig_t)\n",
    "    pulse_area = pulse_area[index]\n",
    "    pulse_trig_t = pulse_trig_t[index]\n",
    "    pulse_heith_t = pulse_heith_t[index]\n",
    "    pulse_end_t = pulse_end_t[index]\n",
    "    pulse_h = pulse_h[index]\n",
    "    \n",
    "    index_raw = [[i-3,i-2,i-1,i,i+1,i+2,i+3] for i in pulse_heith_t]\n",
    "    #index = np.array([[i-2,i-1,i,i+1,i+2] for i in pulse_heith_t]).flatten()\n",
    "    index = np.array([[i-1,i,i+1] for i in pulse_heith_t]).flatten()\n",
    "    mask = np.ones(len(arr), dtype=bool)\n",
    "    mask[index] = False\n",
    "    result = arr[mask]\n",
    "    \n",
    "    return pulse_area,pulse_trig_t,pulse_heith_t,pulse_end_t,pulse_h, result, mask, index_raw\n",
    "    #return [pulse_area,pulse_trig_t,pulse_heith_t,pulse_end_t,pulse_h]"
   ]
  },
  {
   "cell_type": "code",
   "execution_count": 157,
   "metadata": {
    "collapsed": false
   },
   "outputs": [],
   "source": [
    "def find_ends(mask):\n",
    "    '''\n",
    "    mask: a boolean array.\n",
    "    return the indices of the two ends of a section of False values\n",
    "    '''\n",
    "    arr = np.diff(mask)\n",
    "    index = np.where(np.abs(arr)>0.1)[0]\n",
    "    pair = []\n",
    "    for ii in range(len(index)/2):\n",
    "        pair.append([index[ii*2], index[ii*2+1]+1])\n",
    "    return pair\n",
    "\n",
    "def get_pq_trans(equip_data, threshold):\n",
    "    p_trans=[]\n",
    "    q_trans=[]\n",
    "    t_trans=[]\n",
    "    t_trans_temp=[]\n",
    "    pq_pair = []\n",
    "    p_data = equip_data['P'].values\n",
    "    q_data = equip_data['Q'].values\n",
    "    pulse_area,pulse_trig_t,pulse_heith_t,pulse_end_t,pulse_h, result_p, mask, index_raw = peak_remover(p_data, threshold)\n",
    "    pair = find_ends(mask)\n",
    "    for indices in pair:\n",
    "        p_trans.append(p_data[indices[1]]-p_data[indices[0]])\n",
    "        q_trans.append(q_data[indices[1]]-q_data[indices[0]])\n",
    "        t_trans_temp.append((indices[0]+indices[1])/2)\n",
    "    # if p_trans and q_trans have zero value at the same location, remove it\n",
    "    for ii in range(len(p_trans)):\n",
    "        if abs(p_trans[ii])>1 or abs(q_trans[ii])>1:\n",
    "            pq_pair.append([p_trans[ii], q_trans[ii]])\n",
    "            t_trans.append(t_trans_temp[ii])\n",
    "\n",
    "    return pq_pair,t_trans"
   ]
  },
  {
   "cell_type": "code",
   "execution_count": 55,
   "metadata": {
    "collapsed": false
   },
   "outputs": [],
   "source": [
    "wf = np.array([0] + list(np.diff((equip_data[9]['P'].values))))\n",
    "time_s = np.array(range(len(wf)))"
   ]
  },
  {
   "cell_type": "code",
   "execution_count": 56,
   "metadata": {
    "collapsed": false
   },
   "outputs": [
    {
     "data": {
      "text/plain": [
       "[<matplotlib.lines.Line2D at 0x1412fe80>]"
      ]
     },
     "execution_count": 56,
     "metadata": {},
     "output_type": "execute_result"
    },
    {
     "data": {
      "image/png": "[encoded data removed]",
      "text/plain": [
       "<matplotlib.figure.Figure at 0x13f54128>"
      ]
     },
     "metadata": {},
     "output_type": "display_data"
    }
   ],
   "source": [
    "%matplotlib inline\n",
    "plt.plot(wf)"
   ]
  },
  {
   "cell_type": "code",
   "execution_count": 57,
   "metadata": {
    "collapsed": false
   },
   "outputs": [],
   "source": [
    "pair =find_ends(mask)"
   ]
  },
  {
   "cell_type": "code",
   "execution_count": 58,
   "metadata": {
    "collapsed": false
   },
   "outputs": [
    {
     "data": {
      "text/plain": [
       "[[55, 61], [118, 129], [182, 188]]"
      ]
     },
     "execution_count": 58,
     "metadata": {},
     "output_type": "execute_result"
    }
   ],
   "source": [
    "pair"
   ]
  },
  {
   "cell_type": "code",
   "execution_count": 136,
   "metadata": {
    "collapsed": false
   },
   "outputs": [],
   "source": [
    "pq_pair,t_trans = get_pq_trans(equip_data[8])"
   ]
  },
  {
   "cell_type": "code",
   "execution_count": 138,
   "metadata": {
    "collapsed": false,
    "scrolled": true
   },
   "outputs": [
    {
     "data": {
      "text/plain": [
       "[[139, 193], [20, 13], [-87, -45], [27, 23], [-97, -186]]"
      ]
     },
     "execution_count": 138,
     "metadata": {},
     "output_type": "execute_result"
    }
   ],
   "source": [
    "pq_pair"
   ]
  },
  {
   "cell_type": "code",
   "execution_count": 140,
   "metadata": {
    "collapsed": false
   },
   "outputs": [
    {
     "data": {
      "text/plain": [
       "[59, 68, 134, 139, 206]"
      ]
     },
     "execution_count": 140,
     "metadata": {},
     "output_type": "execute_result"
    }
   ],
   "source": [
    "t_trans"
   ]
  },
  {
   "cell_type": "code",
   "execution_count": 63,
   "metadata": {
    "collapsed": true
   },
   "outputs": [],
   "source": [
    "pulse_area,pulse_trig_t,pulse_heith_t,pulse_end_t,pulse_h, result_p, mask, index_raw = peak_remover(equip_data[9]['P'].values, threshold=20)"
   ]
  },
  {
   "cell_type": "code",
   "execution_count": 64,
   "metadata": {
    "collapsed": false
   },
   "outputs": [
    {
     "data": {
      "text/plain": [
       "array([ 54,  55,  56,  57, 191, 254, 255, 318, 319, 424, 433, 434, 494, 495])"
      ]
     },
     "execution_count": 64,
     "metadata": {},
     "output_type": "execute_result"
    }
   ],
   "source": [
    "pulse_heith_t"
   ]
  },
  {
   "cell_type": "code",
   "execution_count": 67,
   "metadata": {
    "collapsed": true
   },
   "outputs": [],
   "source": [
    "result_q = equip_data[9]['Q'].values[mask]"
   ]
  },
  {
   "cell_type": "code",
   "execution_count": 68,
   "metadata": {
    "collapsed": false
   },
   "outputs": [
    {
     "data": {
      "image/png": "[encoded data removed]",
      "text/plain": [
       "<matplotlib.figure.Figure at 0x105b3ac8>"
      ]
     },
     "metadata": {},
     "output_type": "display_data"
    }
   ],
   "source": [
    "plt.plot(result_p)\n",
    "plt.show()"
   ]
  },
  {
   "cell_type": "code",
   "execution_count": 69,
   "metadata": {
    "collapsed": false
   },
   "outputs": [
    {
     "data": {
      "text/plain": [
       "KNeighborsClassifier(algorithm='auto', leaf_size=30, metric='minkowski',\n",
       "           metric_params=None, n_jobs=1, n_neighbors=1, p=2,\n",
       "           weights='uniform')"
      ]
     },
     "execution_count": 69,
     "metadata": {},
     "output_type": "execute_result"
    }
   ],
   "source": [
    "from sklearn.neighbors import KNeighborsClassifier\n",
    "knn = KNeighborsClassifier(n_neighbors=1)\n",
    "train = trans_df.iloc[:,0:2].values\n",
    "label = trans_df.iloc[:,2].values\n",
    "knn.fit(train,label)"
   ]
  },
  {
   "cell_type": "code",
   "execution_count": 79,
   "metadata": {
    "collapsed": false
   },
   "outputs": [],
   "source": [
    "predic = knn.predict(np.array(pq_pair))"
   ]
  },
  {
   "cell_type": "code",
   "execution_count": 80,
   "metadata": {
    "collapsed": false
   },
   "outputs": [
    {
     "name": "stdout",
     "output_type": "stream",
     "text": [
      "yd10:关闭 to yd10:1档热风\n",
      "yd10:1档热风 to yd10:1档冷风\n",
      "yd10:1档冷风 to yd10:关闭\n",
      "yd10:关闭 to yd10:2档热风\n",
      "yd10:2档热风 to yd10:2档冷风\n",
      "yd10:2档冷风 to yd10:关闭\n"
     ]
    }
   ],
   "source": [
    "for ii in predic:\n",
    "    print ii"
   ]
  },
  {
   "cell_type": "code",
   "execution_count": 141,
   "metadata": {
    "collapsed": true
   },
   "outputs": [
    {
     "data": {
      "text/plain": [
       "([[-45, -11],\n",
       "  [20, 0],\n",
       "  [19, -8],\n",
       "  [-23, -33],\n",
       "  [-58, -44],\n",
       "  [-5, -31],\n",
       "  [-36, -31],\n",
       "  [1, 9],\n",
       "  [6, 5],\n",
       "  [9, 8],\n",
       "  [-29, -70],\n",
       "  [-24, -28],\n",
       "  [-33, -28],\n",
       "  [-12, -20],\n",
       "  [-5, -12],\n",
       "  [7, -13],\n",
       "  [-33, -16],\n",
       "  [2, 4],\n",
       "  [-17, -19],\n",
       "  [-25, -2],\n",
       "  [-38, -76],\n",
       "  [36, 30],\n",
       "  [2967, 5239],\n",
       "  [-2, -16],\n",
       "  [-9, 6],\n",
       "  [-39, -21],\n",
       "  [-1, 3],\n",
       "  [-55, -32],\n",
       "  [4, 13],\n",
       "  [-64, 1],\n",
       "  [56, 11],\n",
       "  [-15, -1],\n",
       "  [-37, -3],\n",
       "  [9, 0],\n",
       "  [16, 3],\n",
       "  [9, 0],\n",
       "  [-6, 0],\n",
       "  [3, 1],\n",
       "  [45, 5],\n",
       "  [-14, -2],\n",
       "  [-180, -20],\n",
       "  [-3, 3],\n",
       "  [25, 15],\n",
       "  [-3, 4],\n",
       "  [1, -68],\n",
       "  [1346, 6958],\n",
       "  [2, 39],\n",
       "  [10210, 805],\n",
       "  [-37, -11],\n",
       "  [-490, 179],\n",
       "  [-17, 0],\n",
       "  [7, 0],\n",
       "  [22, 13],\n",
       "  [-717, -61],\n",
       "  [16, 0],\n",
       "  [-20, 0],\n",
       "  [4147, 3309],\n",
       "  [-3956, -736],\n",
       "  [-2, 0],\n",
       "  [101, 383],\n",
       "  [66, 17],\n",
       "  [2, 3],\n",
       "  [-35, -1],\n",
       "  [22, 27],\n",
       "  [-44, -3],\n",
       "  [5, 1],\n",
       "  [7, 1],\n",
       "  [143, 10],\n",
       "  [93, 44],\n",
       "  [-2, 9],\n",
       "  [-12, 0],\n",
       "  [-12, 1],\n",
       "  [1177, 5923],\n",
       "  [-4, -17],\n",
       "  [-70, -6],\n",
       "  [-32, -1],\n",
       "  [4770, 3869],\n",
       "  [23, 17],\n",
       "  [-17, -1],\n",
       "  [12, 1],\n",
       "  [23, 2],\n",
       "  [-39, 0],\n",
       "  [-14, -1],\n",
       "  [-1, 2],\n",
       "  [2516, 5442],\n",
       "  [1985, 6948],\n",
       "  [3653, 5785],\n",
       "  [-2, 0],\n",
       "  [1397, 7634],\n",
       "  [-2686, -591],\n",
       "  [-3, 1],\n",
       "  [2, 0],\n",
       "  [35, -32],\n",
       "  [-50, -15],\n",
       "  [56, 58],\n",
       "  [37, 38],\n",
       "  [1401, 7126],\n",
       "  [-12, -30],\n",
       "  [1372, 7020],\n",
       "  [-17, -54],\n",
       "  [-10, -6],\n",
       "  [2063, 7028],\n",
       "  [18, 24],\n",
       "  [1346, 6931],\n",
       "  [52, -23],\n",
       "  [-50, 32],\n",
       "  [-3, -3],\n",
       "  [1357, 7038],\n",
       "  [129, 56],\n",
       "  [2308, 6708],\n",
       "  [26, 90],\n",
       "  [30, 40],\n",
       "  [20, 72],\n",
       "  [1363, 7012],\n",
       "  [234, 310],\n",
       "  [-74, -101],\n",
       "  [-1, 34],\n",
       "  [1286, 6506],\n",
       "  [131, 144],\n",
       "  [-2, 28],\n",
       "  [1389, 6893],\n",
       "  [43, 99],\n",
       "  [1148, -208],\n",
       "  [-1912, -304],\n",
       "  [-41, 1],\n",
       "  [10, 1],\n",
       "  [4, 1],\n",
       "  [-5, 1],\n",
       "  [28, 1],\n",
       "  [20, 1],\n",
       "  [16, 0],\n",
       "  [11, 1],\n",
       "  [-12, 0],\n",
       "  [-12, -1],\n",
       "  [-10, 0],\n",
       "  [47, 1],\n",
       "  [-9, 0]],\n",
       " [4,\n",
       "  10,\n",
       "  16,\n",
       "  24,\n",
       "  35,\n",
       "  51,\n",
       "  62,\n",
       "  71,\n",
       "  78,\n",
       "  82,\n",
       "  99,\n",
       "  109,\n",
       "  115,\n",
       "  122,\n",
       "  131,\n",
       "  137,\n",
       "  142,\n",
       "  148,\n",
       "  154,\n",
       "  161,\n",
       "  171,\n",
       "  180,\n",
       "  191,\n",
       "  200,\n",
       "  206,\n",
       "  213,\n",
       "  220,\n",
       "  230,\n",
       "  240,\n",
       "  249,\n",
       "  263,\n",
       "  279,\n",
       "  292,\n",
       "  319,\n",
       "  332,\n",
       "  345,\n",
       "  354,\n",
       "  371,\n",
       "  384,\n",
       "  400,\n",
       "  415,\n",
       "  440,\n",
       "  466,\n",
       "  478,\n",
       "  493,\n",
       "  508,\n",
       "  523,\n",
       "  538,\n",
       "  550,\n",
       "  555,\n",
       "  565,\n",
       "  570,\n",
       "  578,\n",
       "  587,\n",
       "  597,\n",
       "  604,\n",
       "  610,\n",
       "  618,\n",
       "  626,\n",
       "  636,\n",
       "  673,\n",
       "  695,\n",
       "  722,\n",
       "  730,\n",
       "  738,\n",
       "  743,\n",
       "  747,\n",
       "  751,\n",
       "  758,\n",
       "  762,\n",
       "  768,\n",
       "  772,\n",
       "  780,\n",
       "  789,\n",
       "  800,\n",
       "  808,\n",
       "  814,\n",
       "  823,\n",
       "  837,\n",
       "  842,\n",
       "  851,\n",
       "  858,\n",
       "  863,\n",
       "  870,\n",
       "  877,\n",
       "  900,\n",
       "  928,\n",
       "  949,\n",
       "  964,\n",
       "  973,\n",
       "  977,\n",
       "  983,\n",
       "  1016,\n",
       "  1058,\n",
       "  1066,\n",
       "  1071,\n",
       "  1079,\n",
       "  1088,\n",
       "  1106,\n",
       "  1118,\n",
       "  1140,\n",
       "  1167,\n",
       "  1178,\n",
       "  1193,\n",
       "  1199,\n",
       "  1205,\n",
       "  1210,\n",
       "  1223,\n",
       "  1230,\n",
       "  1253,\n",
       "  1262,\n",
       "  1273,\n",
       "  1277,\n",
       "  1283,\n",
       "  1290,\n",
       "  1299,\n",
       "  1307,\n",
       "  1313,\n",
       "  1321,\n",
       "  1337,\n",
       "  1343,\n",
       "  1349,\n",
       "  1355,\n",
       "  1360,\n",
       "  1367,\n",
       "  1389,\n",
       "  1410,\n",
       "  1422,\n",
       "  1428,\n",
       "  1441,\n",
       "  1448,\n",
       "  1463,\n",
       "  1475,\n",
       "  1493,\n",
       "  1500,\n",
       "  1508,\n",
       "  1515])"
      ]
     },
     "execution_count": 141,
     "metadata": {},
     "output_type": "execute_result"
    }
   ],
   "source": [
    "path = u\"C:/Users/Administrator/git/NILM/A题\"\n",
    "unknown3=pd.ExcelFile(path+ u\"全部数据/附件4/设备组3.xlsx\")\n",
    "equip_data=unknown3.parse(u'设备数据')\n",
    "pq_pair,t_trans= get_pq_trans(equip_data)\n",
    "pq_pair,t_trans"
   ]
  },
  {
   "cell_type": "code",
   "execution_count": 142,
   "metadata": {
    "collapsed": true
   },
   "outputs": [],
   "source": [
    "pulse_area,pulse_trig_t,pulse_heith_t,pulse_end_t,pulse_h, result_p, mask, index_raw = peak_remover(equip_data['P'].values, threshold=20)"
   ]
  },
  {
   "cell_type": "code",
   "execution_count": 143,
   "metadata": {
    "collapsed": false
   },
   "outputs": [
    {
     "data": {
      "image/png": "[encoded data removed]",
      "text/plain": [
       "<matplotlib.figure.Figure at 0x193b62b0>"
      ]
     },
     "metadata": {},
     "output_type": "display_data"
    }
   ],
   "source": [
    "plt.plot(equip_data['P'].values)\n",
    "plt.show()"
   ]
  },
  {
   "cell_type": "code",
   "execution_count": 144,
   "metadata": {
    "collapsed": false,
    "scrolled": true
   },
   "outputs": [
    {
     "data": {
      "image/png": "[encoded data removed]",
      "text/plain": [
       "<matplotlib.figure.Figure at 0x189f5b00>"
      ]
     },
     "metadata": {},
     "output_type": "display_data"
    }
   ],
   "source": [
    "plt.plot(equip_data['P'].values)\n",
    "plt.show()"
   ]
  },
  {
   "cell_type": "code",
   "execution_count": 137,
   "metadata": {
    "collapsed": false,
    "scrolled": true
   },
   "outputs": [
    {
     "name": "stdout",
     "output_type": "stream",
     "text": [
      "yd9:关闭 to yd9:辅热 59\n",
      "yd9:除湿 to yd9:辅热 68\n",
      "yd6:打开 to yd6:关闭 134\n",
      "yd6:关闭 to yd6:打开 139\n",
      "yd9:辅热 to yd9:关闭 206\n"
     ]
    }
   ],
   "source": [
    "predic = knn.predict(np.array(pq_pair))\n",
    "for ii,element in enumerate(predic):\n",
    "    print element, t_trans[ii]"
   ]
  },
  {
   "cell_type": "code",
   "execution_count": 158,
   "metadata": {
    "collapsed": false,
    "scrolled": true
   },
   "outputs": [
    {
     "data": {
      "text/plain": [
       "([[17628, 18],\n",
       "  [807, 176],\n",
       "  [-16897, 2],\n",
       "  [-405, -10],\n",
       "  [17279, 2],\n",
       "  [389, 6],\n",
       "  [-988, -211],\n",
       "  [-368, -6]],\n",
       " [59, 71, 333, 401, 408, 602, 682, 690])"
      ]
     },
     "execution_count": 158,
     "metadata": {},
     "output_type": "execute_result"
    }
   ],
   "source": [
    "path = u\"C:/Users/Administrator/git/NILM/A题\"\n",
    "unknown5=pd.ExcelFile(path+ u\"全部数据/附件3（不含操作记录）/设备组5-YD3+YD5+YD11.xlsx\")\n",
    "equip_data=unknown5.parse(u'设备数据')\n",
    "pq_pair,t_trans= get_pq_trans(equip_data, threshold=200) # Here we have to change the threshold to 200 in order to get rid of the fluctuations\n",
    "pq_pair,t_trans"
   ]
  },
  {
   "cell_type": "code",
   "execution_count": 159,
   "metadata": {
    "collapsed": false
   },
   "outputs": [
    {
     "data": {
      "image/png": "[encoded data removed]",
      "text/plain": [
       "<matplotlib.figure.Figure at 0x105875f8>"
      ]
     },
     "metadata": {},
     "output_type": "display_data"
    },
    {
     "data": {
      "image/png": "[encoded data removed]",
      "text/plain": [
       "<matplotlib.figure.Figure at 0xf29dd68>"
      ]
     },
     "metadata": {},
     "output_type": "display_data"
    }
   ],
   "source": [
    "pulse_area,pulse_trig_t,pulse_heith_t,pulse_end_t,pulse_h, result_p, mask, index_raw = peak_remover(equip_data['P'].values, threshold=200)\n",
    "plt.figure()\n",
    "plt.plot(equip_data['P'].values)\n",
    "plt.show()\n",
    "plt.figure()\n",
    "plt.plot(equip_data['P'].values)\n",
    "plt.show()"
   ]
  },
  {
   "cell_type": "code",
   "execution_count": 160,
   "metadata": {
    "collapsed": false
   },
   "outputs": [
    {
     "name": "stdout",
     "output_type": "stream",
     "text": [
      "yd3:关闭 to yd3:打开 59\n",
      "yd11:关闭 to yd11:打开 71\n",
      "yd3:打开 to yd3:关闭 333\n",
      "yd5:打开 to yd5:关闭 401\n",
      "yd3:关闭 to yd3:打开 408\n",
      "yd5:关闭 to yd5:打开 602\n",
      "yd11:打开 to yd11:关闭 682\n",
      "yd5:打开 to yd5:关闭 690\n"
     ]
    }
   ],
   "source": [
    "predic = knn.predict(np.array(pq_pair))\n",
    "for ii,element in enumerate(predic):\n",
    "    print element, t_trans[ii]"
   ]
  },
  {
   "cell_type": "code",
   "execution_count": null,
   "metadata": {
    "collapsed": true
   },
   "outputs": [],
   "source": []
  },
  {
   "cell_type": "code",
   "execution_count": null,
   "metadata": {
    "collapsed": true
   },
   "outputs": [],
   "source": []
  }
 ],
 "metadata": {
  "kernelspec": {
   "display_name": "Python 2",
   "language": "python",
   "name": "python2"
  },
  "language_info": {
   "codemirror_mode": {
    "name": "ipython",
    "version": 2
   },
   "file_extension": ".py",
   "mimetype": "text/x-python",
   "name": "python",
   "nbconvert_exporter": "python",
   "pygments_lexer": "ipython2",
   "version": "2.7.11"
  }
 },
 "nbformat": 4,
 "nbformat_minor": 0
}
