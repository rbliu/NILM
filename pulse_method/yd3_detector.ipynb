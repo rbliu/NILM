{
 "cells": [
  {
   "cell_type": "code",
   "execution_count": 1,
   "metadata": {
    "collapsed": true
   },
   "outputs": [],
   "source": [
    "import pandas as pd\n",
    "import codecs\n",
    "import sys\n",
    "import numpy as np\n",
    "import matplotlib.pyplot as plt\n",
    "import datetime\n",
    "\n",
    "path = u\"C:/Users/Administrator/git/NILM/A题\"\n",
    "yd1 = pd.ExcelFile(path+ u\"部分数据/附件1/YD1.xlsx\")\n",
    "yd2 = pd.ExcelFile(path+ u\"部分数据/附件1/YD2.xlsx\")\n",
    "yd3 = pd.ExcelFile(path+ u\"部分数据/附件1/YD3.xlsx\")\n",
    "yd4 = pd.ExcelFile(path+ u\"部分数据/附件1/YD4.xlsx\")\n",
    "yd5 = pd.ExcelFile(path+ u\"部分数据/附件1/YD5.xlsx\")\n",
    "yd6 = pd.ExcelFile(path+ u\"部分数据/附件1/YD6.xlsx\")\n",
    "yd7 = pd.ExcelFile(path+ u\"部分数据/附件1/YD7.xlsx\")\n",
    "yd8 = pd.ExcelFile(path+ u\"部分数据/附件1/YD8.xlsx\")\n",
    "yd9 = pd.ExcelFile(path+ u\"部分数据/附件1/YD9.xlsx\")\n",
    "yd10 = pd.ExcelFile(path+ u\"部分数据/附件1/YD10.xlsx\")\n",
    "yd11 = pd.ExcelFile(path+ u\"部分数据/附件1/YD11.xlsx\")\n",
    "yd3yd7 = pd.ExcelFile(path+ u\"部分数据/附件3/设备组1-YD3+YD7.xlsx\")\n",
    "yd1yd2yd4 = pd.ExcelFile(path+ u\"部分数据/附件3/设备组2-YD1+YD2+YD4.xlsx\")\n",
    "yd4yd5yd10yd11=pd.ExcelFile(path+ u\"部分数据/附件3/设备组3-YD4+YD5+YD8+YD10+YD11.xlsx\")\n",
    "yd=[yd1,yd2,yd3,yd4,yd5,yd6,yd7,yd8,yd9,yd10, yd11, yd3yd7, yd1yd2yd4, yd4yd5yd10yd11]\n",
    "\n",
    "equip_data = []\n",
    "period_data = []\n",
    "harmonic_data = []\n",
    "oper_data = []\n",
    "for i in range(0,14):\n",
    "    equip_data.append(yd[i].parse(u'设备数据'));\n",
    "    period_data.append(yd[i].parse(u'周波数据'));\n",
    "    harmonic_data.append(yd[i].parse(u'谐波数据'));\n",
    "for i in range(0,11):\n",
    "    oper_data.append(yd[i].parse(u'操作记录'));\n"
   ]
  },
  {
   "cell_type": "code",
   "execution_count": 2,
   "metadata": {
    "collapsed": true
   },
   "outputs": [],
   "source": [
    "### The function to detect and characterize pulses.\n",
    "\n",
    "def characterize_pulse(array, posi_thresh, nega_thresh):\n",
    "    # author - D.Q. Huang 20180406\n",
    "    # this function is used to find and characterize pulse in each instrument\n",
    "    # input:\n",
    "    #       - instrument data array\n",
    "    #       - positive threshold\n",
    "    #       - negative threshold\n",
    "    # output:\n",
    "    pulse_wf = [] # pulse waveform, this is not part of output\n",
    "    pulse_area = [] # pulse area\n",
    "    pulse_trig_t = [] # time of first point that is triggered\n",
    "    pulse_heith_t = [] # height point time\n",
    "    pulse_end_t = [] # time of last point that is triggered\n",
    "    pulse_h = [] # pulse height\n",
    "    \n",
    "    wf = np.array([0] + list(np.diff(array)))\n",
    "    time_s = np.array(range(len(wf)))\n",
    "    cut_p = (wf > posi_thresh)\n",
    "    cut_p_diff = np.diff(cut_p*1) # convert boolean to number \n",
    "    pp_start_idx = np.where(cut_p_diff == 1)[0] + 1 # first index cutted out by diff - python index (starts with 0)\n",
    "    pp_end_idx = np.where(cut_p_diff == -1)[0] # we don't need +1 here somehow - python index (starts with 0)\n",
    "\n",
    "    for i in range(0, min([len(pp_start_idx),len(pp_end_idx)])):\n",
    "        temp_pulse_wf = wf[np.array(range(pp_start_idx[i],pp_end_idx[i]+1))]\n",
    "        temp_pulse_time_s = time_s[np.array(range(pp_start_idx[i],pp_end_idx[i]+1))]\n",
    "        pulse_wf.append(temp_pulse_wf)\n",
    "        pulse_area.append(temp_pulse_wf.sum())\n",
    "        pulse_h.append(temp_pulse_wf.max())\n",
    "        pulse_trig_t.append(temp_pulse_time_s[0])\n",
    "        cut_pulse_heigh_t = np.where(temp_pulse_wf == temp_pulse_wf.max())\n",
    "        pulse_heith_t.append(temp_pulse_time_s[cut_pulse_heigh_t[0][0]])\n",
    "        pulse_end_t.append(temp_pulse_time_s[-1])\n",
    "        \n",
    "    cut_n = (wf < nega_thresh)\n",
    "    cut_n_diff = np.diff(cut_n*1)\n",
    "    np_start_idx = np.where(cut_n_diff == 1)[0] + 1\n",
    "    np_end_idx = np.where(cut_n_diff == -1)[0]\n",
    "    \n",
    "    for i in range(0, min([len(np_start_idx),len(np_end_idx)])):\n",
    "        temp_pulse_wf = wf[np.array(range(np_start_idx[i],np_end_idx[i]+1))]\n",
    "        temp_pulse_time_s = time_s[np.array(range(np_start_idx[i],np_end_idx[i]+1))]\n",
    "        pulse_wf.append(temp_pulse_wf)\n",
    "        pulse_area.append(temp_pulse_wf.sum())\n",
    "        pulse_h.append(temp_pulse_wf.min())\n",
    "        pulse_trig_t.append(temp_pulse_time_s[0])\n",
    "        cut_pulse_heigh_t = np.where(temp_pulse_wf == temp_pulse_wf.min())\n",
    "        pulse_heith_t.append(temp_pulse_time_s[cut_pulse_heigh_t[0][0]])\n",
    "        pulse_end_t.append(temp_pulse_time_s[-1])\n",
    "        \n",
    "    pulse_area = np.array(pulse_area)\n",
    "    pulse_trig_t = np.array(pulse_trig_t)\n",
    "    pulse_heith_t = np.array(pulse_heith_t)\n",
    "    pulse_end_t = np.array(pulse_end_t)\n",
    "    pulse_h = np.array(pulse_h)\n",
    "    \n",
    "    index = np.argsort(pulse_trig_t)\n",
    "    pulse_area = pulse_area[index]\n",
    "    pulse_trig_t = pulse_trig_t[index]\n",
    "    pulse_heith_t = pulse_heith_t[index]\n",
    "    pulse_end_t = pulse_end_t[index]\n",
    "    pulse_h = pulse_h[index]\n",
    "    \n",
    "    return [pulse_area,pulse_trig_t,pulse_heith_t,pulse_end_t,pulse_h] "
   ]
  },
  {
   "cell_type": "markdown",
   "metadata": {},
   "source": [
    "### We use P values for identifying pulses, i.e. operations."
   ]
  },
  {
   "cell_type": "code",
   "execution_count": 3,
   "metadata": {
    "collapsed": true
   },
   "outputs": [],
   "source": [
    "pulse_area,pulse_trig_t,pulse_heith_t,pulse_end_t,pulse_h = characterize_pulse(equip_data[2]['P'].values, posi_thresh=20, nega_thresh=-20)"
   ]
  },
  {
   "cell_type": "code",
   "execution_count": 4,
   "metadata": {
    "collapsed": false
   },
   "outputs": [
    {
     "data": {
      "text/plain": [
       "array([ 17265,    -58,    -23,    -31,    -22,    -24,    -21,    -22,\n",
       "       -16997], dtype=int64)"
      ]
     },
     "execution_count": 4,
     "metadata": {},
     "output_type": "execute_result"
    }
   ],
   "source": [
    "pulse_area"
   ]
  },
  {
   "cell_type": "code",
   "execution_count": 5,
   "metadata": {
    "collapsed": false
   },
   "outputs": [
    {
     "data": {
      "text/plain": [
       "array([ 54,  55,  60,  62,  66,  68, 107, 111, 129])"
      ]
     },
     "execution_count": 5,
     "metadata": {},
     "output_type": "execute_result"
    }
   ],
   "source": [
    "pulse_heith_t"
   ]
  },
  {
   "cell_type": "code",
   "execution_count": 6,
   "metadata": {
    "collapsed": false
   },
   "outputs": [
    {
     "data": {
      "text/plain": [
       "array([ 53,  55,  60,  62,  66,  68, 107, 111, 128])"
      ]
     },
     "execution_count": 6,
     "metadata": {},
     "output_type": "execute_result"
    }
   ],
   "source": [
    "pulse_trig_t"
   ]
  },
  {
   "cell_type": "code",
   "execution_count": 7,
   "metadata": {
    "collapsed": false
   },
   "outputs": [
    {
     "data": {
      "text/plain": [
       "array([ 54,  56,  60,  62,  66,  68, 107, 111, 129])"
      ]
     },
     "execution_count": 7,
     "metadata": {},
     "output_type": "execute_result"
    }
   ],
   "source": [
    "pulse_end_t"
   ]
  },
  {
   "cell_type": "code",
   "execution_count": 8,
   "metadata": {
    "collapsed": false
   },
   "outputs": [
    {
     "data": {
      "text/plain": [
       "array([ 15209,    -30,    -23,    -31,    -22,    -24,    -21,    -22,\n",
       "       -14826], dtype=int64)"
      ]
     },
     "execution_count": 8,
     "metadata": {},
     "output_type": "execute_result"
    }
   ],
   "source": [
    "pulse_h"
   ]
  },
  {
   "cell_type": "markdown",
   "metadata": {},
   "source": [
    "# The charaterize_pulse function detected the two most significant pulses. The rest small pulses are just fluctuations which are not useful for identifying yd3. However, these small pulses might be distractive when identifying other equipments. "
   ]
  },
  {
   "cell_type": "markdown",
   "metadata": {},
   "source": [
    "### Let's defined the equipment detector for yd3"
   ]
  },
  {
   "cell_type": "code",
   "execution_count": 9,
   "metadata": {
    "collapsed": true
   },
   "outputs": [],
   "source": [
    "def yd3_detector(pulse_area,pulse_trig_t,pulse_heith_t,pulse_end_t,pulse_h):\n",
    "    '''\n",
    "    Input : pulse_area, pulse_trig_t, pulse_heith_t, pulse_end_t, pulse_h,  i.e.\n",
    "            The characteristics of the pulses identified by the characterize_pulse function. \n",
    "    Output : Exist: boolean. If True, then yd3 is decteted. If False, then yd3 is not detected.\n",
    "             operation : list of tuples. Each tuple contains two values: one is the operation, the other is the operation time.\n",
    "             mask : numpy array that put False at the location where yd3 pulse is .\n",
    "    '''\n",
    "    criteria = 15000 \n",
    "    index = np.where(np.abs(pulse_area)>criteria)[0] # Find the index of values bigger than criteria\n",
    "    mask = np.ones(len(pulse_area), dtype=bool)\n",
    "    operation = []\n",
    "    if len(index)==0: # i.e. yd3 is not detected\n",
    "        exist = False\n",
    "    else:\n",
    "        exist = True\n",
    "        for i in index:\n",
    "            if pulse_area[i]>0:\n",
    "                operation.append(('yd3 turn on', pulse_trig_t[i]))\n",
    "            if pulse_area[i]<0:\n",
    "                operation.append(('yd3 turn off', pulse_trig_t[i]))\n",
    "        mask[index] = False\n",
    "    return exist, operation , mask"
   ]
  },
  {
   "cell_type": "code",
   "execution_count": 10,
   "metadata": {
    "collapsed": false
   },
   "outputs": [],
   "source": [
    "exist, operation, mask = yd3_detector(pulse_area,pulse_trig_t,pulse_heith_t,pulse_end_t,pulse_h)"
   ]
  },
  {
   "cell_type": "code",
   "execution_count": 11,
   "metadata": {
    "collapsed": false
   },
   "outputs": [
    {
     "data": {
      "text/plain": [
       "(True,\n",
       " [('yd3 turn on', 53), ('yd3 turn off', 128)],\n",
       " array([False,  True,  True,  True,  True,  True,  True,  True, False], dtype=bool))"
      ]
     },
     "execution_count": 11,
     "metadata": {},
     "output_type": "execute_result"
    }
   ],
   "source": [
    "exist, operation, mask"
   ]
  },
  {
   "cell_type": "markdown",
   "metadata": {},
   "source": [
    "### Let's define the function for masking the detected pulses."
   ]
  },
  {
   "cell_type": "code",
   "execution_count": 12,
   "metadata": {
    "collapsed": true
   },
   "outputs": [],
   "source": [
    "def mask_process(mask,pulse_area,pulse_trig_t,pulse_heith_t,pulse_end_t,pulse_h):\n",
    "    '''\n",
    "    Input : mask,pulse_area,pulse_trig_t,pulse_heith_t,pulse_end_t,pulse_h\n",
    "    Output : values of pulse_area,pulse_trig_t,pulse_heith_t,pulse_end_t,pulse_h after being masked\n",
    "    '''\n",
    "    pulse_area = pulse_area[mask]\n",
    "    pulse_trig_t = pulse_trig_t[mask]\n",
    "    pulse_heith_t = pulse_heith_t[mask]\n",
    "    pulse_end_t = pulse_end_t[mask]\n",
    "    pulse_h = pulse_h[mask]\n",
    "    \n",
    "    return pulse_area,pulse_trig_t,pulse_heith_t,pulse_end_t,pulse_h\n"
   ]
  },
  {
   "cell_type": "code",
   "execution_count": 13,
   "metadata": {
    "collapsed": false
   },
   "outputs": [],
   "source": [
    "pulse_area,pulse_trig_t,pulse_heith_t,pulse_end_t,pulse_h=mask_process(mask,pulse_area,pulse_trig_t,pulse_heith_t,pulse_end_t,pulse_h)"
   ]
  },
  {
   "cell_type": "code",
   "execution_count": 14,
   "metadata": {
    "collapsed": false
   },
   "outputs": [
    {
     "data": {
      "text/plain": [
       "(array([-58, -23, -31, -22, -24, -21, -22], dtype=int64),\n",
       " array([ 55,  60,  62,  66,  68, 107, 111]),\n",
       " array([ 55,  60,  62,  66,  68, 107, 111]),\n",
       " array([ 56,  60,  62,  66,  68, 107, 111]),\n",
       " array([-30, -23, -31, -22, -24, -21, -22], dtype=int64))"
      ]
     },
     "execution_count": 14,
     "metadata": {},
     "output_type": "execute_result"
    }
   ],
   "source": [
    "pulse_area,pulse_trig_t,pulse_heith_t,pulse_end_t,pulse_h"
   ]
  },
  {
   "cell_type": "markdown",
   "metadata": {},
   "source": [
    "### Let's test our yd3_detector on other equip_data. It works for the moment."
   ]
  },
  {
   "cell_type": "code",
   "execution_count": 15,
   "metadata": {
    "collapsed": true
   },
   "outputs": [],
   "source": [
    "pulse_area,pulse_trig_t,pulse_heith_t,pulse_end_t,pulse_h = characterize_pulse(equip_data[13]['P'].values, posi_thresh=20, nega_thresh=-20)"
   ]
  },
  {
   "cell_type": "code",
   "execution_count": 16,
   "metadata": {
    "collapsed": false,
    "scrolled": false
   },
   "outputs": [
    {
     "data": {
      "text/plain": [
       "(False,\n",
       " [],\n",
       " array([ True,  True,  True,  True,  True,  True,  True,  True,  True,\n",
       "         True,  True,  True,  True,  True,  True,  True,  True,  True,\n",
       "         True,  True,  True,  True,  True,  True,  True,  True,  True,\n",
       "         True,  True,  True,  True,  True,  True,  True,  True,  True,\n",
       "         True,  True,  True,  True,  True,  True,  True,  True,  True,\n",
       "         True,  True,  True,  True,  True,  True,  True,  True,  True,\n",
       "         True,  True,  True,  True,  True,  True,  True,  True,  True,\n",
       "         True,  True,  True,  True,  True,  True,  True,  True,  True,\n",
       "         True,  True,  True,  True,  True,  True,  True,  True,  True,\n",
       "         True,  True,  True,  True,  True,  True,  True,  True,  True,\n",
       "         True,  True,  True,  True,  True,  True,  True,  True,  True,\n",
       "         True,  True,  True,  True,  True,  True,  True,  True,  True,\n",
       "         True,  True,  True,  True,  True,  True,  True,  True,  True,\n",
       "         True,  True,  True,  True,  True,  True,  True,  True,  True,\n",
       "         True,  True,  True,  True,  True,  True,  True,  True,  True,\n",
       "         True,  True,  True,  True,  True,  True,  True,  True,  True,\n",
       "         True,  True,  True,  True,  True,  True,  True,  True,  True,\n",
       "         True,  True,  True,  True,  True,  True,  True,  True,  True,\n",
       "         True,  True,  True,  True,  True,  True,  True,  True,  True,\n",
       "         True,  True,  True,  True,  True,  True,  True,  True,  True,\n",
       "         True,  True,  True,  True,  True,  True,  True,  True,  True,\n",
       "         True,  True,  True,  True,  True,  True,  True,  True,  True,\n",
       "         True,  True,  True,  True,  True,  True,  True,  True,  True,\n",
       "         True,  True,  True,  True,  True,  True,  True,  True,  True,\n",
       "         True,  True,  True,  True,  True,  True,  True,  True,  True,\n",
       "         True,  True,  True,  True,  True,  True,  True,  True,  True,\n",
       "         True,  True,  True,  True,  True,  True,  True,  True,  True,\n",
       "         True,  True,  True,  True,  True,  True,  True,  True,  True,\n",
       "         True,  True,  True,  True,  True,  True,  True,  True,  True,\n",
       "         True,  True,  True,  True,  True,  True,  True,  True,  True,\n",
       "         True,  True,  True,  True,  True], dtype=bool))"
      ]
     },
     "execution_count": 16,
     "metadata": {},
     "output_type": "execute_result"
    }
   ],
   "source": [
    "yd3_detector(pulse_area,pulse_trig_t,pulse_heith_t,pulse_end_t,pulse_h)"
   ]
  },
  {
   "cell_type": "code",
   "execution_count": null,
   "metadata": {
    "collapsed": true
   },
   "outputs": [],
   "source": []
  },
  {
   "cell_type": "code",
   "execution_count": null,
   "metadata": {
    "collapsed": true
   },
   "outputs": [],
   "source": []
  }
 ],
 "metadata": {
  "kernelspec": {
   "display_name": "Python 2",
   "language": "python",
   "name": "python2"
  },
  "language_info": {
   "codemirror_mode": {
    "name": "ipython",
    "version": 2
   },
   "file_extension": ".py",
   "mimetype": "text/x-python",
   "name": "python",
   "nbconvert_exporter": "python",
   "pygments_lexer": "ipython2",
   "version": "2.7.11"
  }
 },
 "nbformat": 4,
 "nbformat_minor": 0
}
